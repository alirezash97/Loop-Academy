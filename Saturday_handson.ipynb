{
  "nbformat": 4,
  "nbformat_minor": 0,
  "metadata": {
    "kernelspec": {
      "display_name": "Python 3",
      "language": "python",
      "name": "python3"
    },
    "language_info": {
      "codemirror_mode": {
        "name": "ipython",
        "version": 3
      },
      "file_extension": ".py",
      "mimetype": "text/x-python",
      "name": "python",
      "nbconvert_exporter": "python",
      "pygments_lexer": "ipython3",
      "version": "3.7.4"
    },
    "colab": {
      "name": "Saturday_handson.ipynb",
      "provenance": [],
      "include_colab_link": true
    }
  },
  "cells": [
    {
      "cell_type": "markdown",
      "metadata": {
        "id": "view-in-github",
        "colab_type": "text"
      },
      "source": [
        "<a href=\"https://colab.research.google.com/github/alirezash97/Loop-Academy/blob/master/Saturday_handson.ipynb\" target=\"_parent\"><img src=\"https://colab.research.google.com/assets/colab-badge.svg\" alt=\"Open In Colab\"/></a>"
      ]
    },
    {
      "cell_type": "markdown",
      "metadata": {
        "id": "cs1TMVt8vzF4",
        "colab_type": "text"
      },
      "source": [
        "### Introduction to python:\n",
        "\n",
        "1. Numpy\n",
        "2. Pandas\n",
        "3. Matplotlib"
      ]
    },
    {
      "cell_type": "markdown",
      "metadata": {
        "id": "FmonbIQPvzF_",
        "colab_type": "text"
      },
      "source": [
        "### Numpy"
      ]
    },
    {
      "cell_type": "code",
      "metadata": {
        "id": "r7sRUMnGvzGD",
        "colab_type": "code",
        "colab": {},
        "outputId": "ecd37d18-21e9-4a19-b3fb-a28dfed6bccb"
      },
      "source": [
        "import numpy as np\n",
        "\n",
        "a = np.array([1, 2, 3])   # Create a rank 1 array\n",
        "print(type(a))            # Prints \"<class 'numpy.ndarray'>\"\n",
        "print(a.shape)            # Prints \"(3,)\"\n",
        "print(a[0], a[1], a[2])   # Prints \"1 2 3\"\n",
        "a[0] = 5                  # Change an element of the array\n",
        "print(a)                  # Prints \"[5, 2, 3]\"\n",
        "\n",
        "b = np.array([[1,2,3],[4,5,6]])    # Create a rank 2 array\n",
        "print(b.shape)                     # Prints \"(2, 3)\"\n",
        "print(b[0, 0], b[0, 1], b[1, 0])   # Prints \"1 2 4\"\n"
      ],
      "execution_count": 0,
      "outputs": [
        {
          "output_type": "stream",
          "text": [
            "<class 'numpy.ndarray'>\n",
            "(3,)\n",
            "1 2 3\n",
            "[5 2 3]\n",
            "(2, 3)\n",
            "1 2 4\n"
          ],
          "name": "stdout"
        }
      ]
    },
    {
      "cell_type": "code",
      "metadata": {
        "id": "0RgzJd1TvzGS",
        "colab_type": "code",
        "colab": {},
        "outputId": "75bbf47b-da84-4da4-ceab-d575234c8042"
      },
      "source": [
        "a = np.zeros((2,2))   # Create an array of all zeros\n",
        "print(a)              # Prints \"[[ 0.  0.]\n",
        "                      #          [ 0.  0.]]\"\n",
        "\n",
        "b = np.ones((1,2))    # Create an array of all ones\n",
        "print(b)              # Prints \"[[ 1.  1.]]\"\n",
        "\n",
        "c = np.full((2,2), 7)  # Create a constant array\n",
        "print(c)               # Prints \"[[ 7.  7.]\n",
        "                       #          [ 7.  7.]]\"\n",
        "\n",
        "d = np.eye(2)         # Create a 2x2 identity matrix\n",
        "print(d)              # Prints \"[[ 1.  0.]\n",
        "                      #          [ 0.  1.]]\"\n",
        "\n",
        "e = np.random.random((2,2))  # Create an array filled with random values\n",
        "print(e)                     # Might print \"[[ 0.91940167  0.08143941]\n",
        "                             #               [ 0.68744134  0.87236687]]\"\n"
      ],
      "execution_count": 0,
      "outputs": [
        {
          "output_type": "stream",
          "text": [
            "[[0. 0.]\n",
            " [0. 0.]]\n",
            "[[1. 1.]]\n",
            "[[7 7]\n",
            " [7 7]]\n",
            "[[1. 0.]\n",
            " [0. 1.]]\n",
            "[[0.4810952  0.6840443 ]\n",
            " [0.3062148  0.37113176]]\n"
          ],
          "name": "stdout"
        }
      ]
    },
    {
      "cell_type": "code",
      "metadata": {
        "id": "cMetwMY7vzGb",
        "colab_type": "code",
        "colab": {},
        "outputId": "f564dbd1-725a-47b6-8a9c-f1b31b48ecf4"
      },
      "source": [
        "# Create the following rank 2 array with shape (3, 4)\n",
        "# [[ 1  2  3  4]\n",
        "#  [ 5  6  7  8]\n",
        "#  [ 9 10 11 12]]\n",
        "a = np.array([[1,2,3,4], [5,6,7,8], [9,10,11,12]])\n",
        "\n",
        "# Use slicing to pull out the subarray consisting of the first 2 rows\n",
        "# and columns 1 and 2; b is the following array of shape (2, 2):\n",
        "# [[2 3]\n",
        "#  [6 7]]\n",
        "b = a[:2, 1:3]\n",
        "\n",
        "# A slice of an array is a view into the same data, so modifying it\n",
        "# will modify the original array.\n",
        "print(a[0, 1])   # Prints \"2\"\n",
        "b[0, 0] = 77     # b[0, 0] is the same piece of data as a[0, 1]\n",
        "print(a[0, 1])   # Prints \"77\""
      ],
      "execution_count": 0,
      "outputs": [
        {
          "output_type": "stream",
          "text": [
            "2\n",
            "77\n"
          ],
          "name": "stdout"
        }
      ]
    },
    {
      "cell_type": "code",
      "metadata": {
        "id": "l_zA_cc0vzGk",
        "colab_type": "code",
        "colab": {},
        "outputId": "9b6c8e1c-7245-4a6b-da10-df041604ca92"
      },
      "source": [
        "# Create the following rank 2 array with shape (3, 4)\n",
        "# [[ 1  2  3  4]\n",
        "#  [ 5  6  7  8]\n",
        "#  [ 9 10 11 12]]\n",
        "a = np.array([[1,2,3,4], [5,6,7,8], [9,10,11,12]])\n",
        "\n",
        "# Two ways of accessing the data in the middle row of the array.\n",
        "# Mixing integer indexing with slices yields an array of lower rank,\n",
        "# while using only slices yields an array of the same rank as the\n",
        "# original array:\n",
        "row_r1 = a[1, :]    # Rank 1 view of the second row of a\n",
        "row_r2 = a[1:2, :]  # Rank 2 view of the second row of a\n",
        "print(row_r1, row_r1.shape)  # Prints \"[5 6 7 8] (4,)\"\n",
        "print(row_r2, row_r2.shape)  # Prints \"[[5 6 7 8]] (1, 4)\"\n",
        "\n",
        "# We can make the same distinction when accessing columns of an array:\n",
        "col_r1 = a[:, 1]\n",
        "col_r2 = a[:, 1:2]\n",
        "print(col_r1, col_r1.shape)  # Prints \"[ 2  6 10] (3,)\"\n",
        "print(col_r2, col_r2.shape)  # Prints \"[[ 2]\n",
        "                             #          [ 6]\n",
        "                             #          [10]] (3, 1)\""
      ],
      "execution_count": 0,
      "outputs": [
        {
          "output_type": "stream",
          "text": [
            "[5 6 7 8] (4,)\n",
            "[[5 6 7 8]] (1, 4)\n",
            "[ 2  6 10] (3,)\n",
            "[[ 2]\n",
            " [ 6]\n",
            " [10]] (3, 1)\n"
          ],
          "name": "stdout"
        }
      ]
    },
    {
      "cell_type": "code",
      "metadata": {
        "id": "sdFXsn1kvzGt",
        "colab_type": "code",
        "colab": {},
        "outputId": "914f01a0-ed45-4276-cc78-b75335e45cb2"
      },
      "source": [
        "a = np.array([[1,2], [3, 4], [5, 6]])\n",
        "\n",
        "# An example of integer array indexing.\n",
        "# The returned array will have shape (3,) and\n",
        "print(a[[0, 1, 2], [0, 1, 0]])  # Prints \"[1 4 5]\"\n",
        "\n",
        "# The above example of integer array indexing is equivalent to this:\n",
        "print(np.array([a[0, 0], a[1, 1], a[2, 0]]))  # Prints \"[1 4 5]\"\n",
        "\n",
        "# When using integer array indexing, you can reuse the same\n",
        "# element from the source array:\n",
        "print(a[[0, 0], [1, 1]])  # Prints \"[2 2]\"\n",
        "\n",
        "# Equivalent to the previous integer array indexing example\n",
        "print(np.array([a[0, 1], a[0, 1]]))  # Prints \"[2 2]\""
      ],
      "execution_count": 0,
      "outputs": [
        {
          "output_type": "stream",
          "text": [
            "[1 4 5]\n",
            "[1 4 5]\n",
            "[2 2]\n",
            "[2 2]\n"
          ],
          "name": "stdout"
        }
      ]
    },
    {
      "cell_type": "code",
      "metadata": {
        "id": "K1nWNhHNvzG1",
        "colab_type": "code",
        "colab": {},
        "outputId": "b5758641-d85f-4ff1-e2e2-7cfa9e257ba8"
      },
      "source": [
        "# Create a new array from which we will select elements\n",
        "a = np.array([[1,2,3], [4,5,6], [7,8,9], [10, 11, 12]])\n",
        "\n",
        "print(a)  # prints \"array([[ 1,  2,  3],\n",
        "          #                [ 4,  5,  6],\n",
        "          #                [ 7,  8,  9],\n",
        "          #                [10, 11, 12]])\"\n",
        "\n",
        "# Create an array of indices\n",
        "b = np.array([0, 2, 0, 1])\n",
        "\n",
        "# Select one element from each row of a using the indices in b\n",
        "print(a[np.arange(4), b])  # Prints \"[ 1  6  7 11]\"\n",
        "\n",
        "# Mutate one element from each row of a using the indices in b\n",
        "a[np.arange(4), b] += 10\n",
        "\n",
        "print(a)  # prints \"array([[11,  2,  3],\n",
        "          #                [ 4,  5, 16],\n",
        "          #                [17,  8,  9],\n",
        "          #                [10, 21, 12]])"
      ],
      "execution_count": 0,
      "outputs": [
        {
          "output_type": "stream",
          "text": [
            "[[ 1  2  3]\n",
            " [ 4  5  6]\n",
            " [ 7  8  9]\n",
            " [10 11 12]]\n",
            "[ 1  6  7 11]\n",
            "[[11  2  3]\n",
            " [ 4  5 16]\n",
            " [17  8  9]\n",
            " [10 21 12]]\n"
          ],
          "name": "stdout"
        }
      ]
    },
    {
      "cell_type": "code",
      "metadata": {
        "id": "BCbUFYKCvzG_",
        "colab_type": "code",
        "colab": {},
        "outputId": "0e0f6e38-8425-49bb-855d-06afbf2db28a"
      },
      "source": [
        "a = np.array([[1,2,3],[4,5,6]])\n",
        "b = np.array([[1,2],[3,4],[5,6]])\n",
        "print(a)\n",
        "print(a.flatten())\n",
        "print(b)\n",
        "print(b.flatten())"
      ],
      "execution_count": 0,
      "outputs": [
        {
          "output_type": "stream",
          "text": [
            "[[1 2 3]\n",
            " [4 5 6]]\n",
            "[1 2 3 4 5 6]\n",
            "[[1 2]\n",
            " [3 4]\n",
            " [5 6]]\n",
            "[1 2 3 4 5 6]\n"
          ],
          "name": "stdout"
        }
      ]
    },
    {
      "cell_type": "code",
      "metadata": {
        "id": "T49LoeFYvzHJ",
        "colab_type": "code",
        "colab": {},
        "outputId": "cc890938-66d5-4867-c772-a334665ecf99"
      },
      "source": [
        "a = np.array([[1,2], [3, 4], [5, 6]])\n",
        "\n",
        "bool_idx = (a > 2)   # Find the elements of a that are bigger than 2;\n",
        "                     # this returns a numpy array of Booleans of the same\n",
        "                     # shape as a, where each slot of bool_idx tells\n",
        "                     # whether that element of a is > 2.\n",
        "\n",
        "print(bool_idx)      # Prints \"[[False False]\n",
        "                     #          [ True  True]\n",
        "                     #          [ True  True]]\"\n",
        "\n",
        "# We use boolean array indexing to construct a rank 1 array\n",
        "# consisting of the elements of a corresponding to the True values\n",
        "# of bool_idx\n",
        "print(a[bool_idx])  # Prints \"[3 4 5 6]\"\n",
        "\n",
        "# We can do all of the above in a single concise statement:\n",
        "print(a[a > 2])     # Prints \"[3 4 5 6]\""
      ],
      "execution_count": 0,
      "outputs": [
        {
          "output_type": "stream",
          "text": [
            "[[False False]\n",
            " [ True  True]\n",
            " [ True  True]]\n",
            "[3 4 5 6]\n",
            "[3 4 5 6]\n"
          ],
          "name": "stdout"
        }
      ]
    },
    {
      "cell_type": "code",
      "metadata": {
        "id": "Ch5LlbkzvzHR",
        "colab_type": "code",
        "colab": {},
        "outputId": "cad7d966-6285-47db-c0c2-a21c3be1b11c"
      },
      "source": [
        "x = np.array([1, 2])   # Let numpy choose the datatype\n",
        "print(x.dtype)         # Prints \"int64\"\n",
        "\n",
        "x = np.array([1.0, 2.0])   # Let numpy choose the datatype\n",
        "print(x.dtype)             # Prints \"float64\"\n",
        "\n",
        "x = np.array([1, 2], dtype=np.int64)   # Force a particular datatype\n",
        "print(x.dtype)  "
      ],
      "execution_count": 0,
      "outputs": [
        {
          "output_type": "stream",
          "text": [
            "int64\n",
            "float64\n",
            "int64\n"
          ],
          "name": "stdout"
        }
      ]
    },
    {
      "cell_type": "code",
      "metadata": {
        "id": "edVpjTL9vzHc",
        "colab_type": "code",
        "colab": {},
        "outputId": "d15ff7fc-70ea-4bbc-c6e5-786b798a1dd5"
      },
      "source": [
        "\n",
        "x = np.array([[1,2],[3,4]], dtype=np.float64)\n",
        "y = np.array([[5,6],[7,8]], dtype=np.float64)\n",
        "\n",
        "# Elementwise sum; both produce the array\n",
        "# [[ 6.0  8.0]\n",
        "#  [10.0 12.0]]\n",
        "print(x + y)\n",
        "print(np.add(x, y))\n",
        "\n",
        "# Elementwise difference; both produce the array\n",
        "# [[-4.0 -4.0]\n",
        "#  [-4.0 -4.0]]\n",
        "print(x - y)\n",
        "print(np.subtract(x, y))\n",
        "\n",
        "# Elementwise product; both produce the array\n",
        "# [[ 5.0 12.0]\n",
        "#  [21.0 32.0]]\n",
        "print(x * y)\n",
        "print(np.multiply(x, y))\n",
        "\n",
        "# Elementwise division; both produce the array\n",
        "# [[ 0.2         0.33333333]\n",
        "#  [ 0.42857143  0.5       ]]\n",
        "print(x / y)\n",
        "print(np.divide(x, y))\n",
        "\n",
        "# Elementwise square root; produces the array\n",
        "# [[ 1.          1.41421356]\n",
        "#  [ 1.73205081  2.        ]]\n",
        "print(np.sqrt(x))"
      ],
      "execution_count": 0,
      "outputs": [
        {
          "output_type": "stream",
          "text": [
            "[[ 6.  8.]\n",
            " [10. 12.]]\n",
            "[[ 6.  8.]\n",
            " [10. 12.]]\n",
            "[[-4. -4.]\n",
            " [-4. -4.]]\n",
            "[[-4. -4.]\n",
            " [-4. -4.]]\n",
            "[[ 5. 12.]\n",
            " [21. 32.]]\n",
            "[[ 5. 12.]\n",
            " [21. 32.]]\n",
            "[[0.2        0.33333333]\n",
            " [0.42857143 0.5       ]]\n",
            "[[0.2        0.33333333]\n",
            " [0.42857143 0.5       ]]\n",
            "[[1.         1.41421356]\n",
            " [1.73205081 2.        ]]\n"
          ],
          "name": "stdout"
        }
      ]
    },
    {
      "cell_type": "code",
      "metadata": {
        "id": "rTkkTltUvzHk",
        "colab_type": "code",
        "colab": {},
        "outputId": "84c0063b-ca68-4637-eb0a-52d1d315aa56"
      },
      "source": [
        "x = np.array([[1,2],[3,4]])\n",
        "y = np.array([[5,6],[7,8]])\n",
        "\n",
        "v = np.array([9,10])\n",
        "w = np.array([11, 12])\n",
        "\n",
        "# Inner product of vectors; both produce 219\n",
        "print(v.dot(w))\n",
        "print(np.dot(v, w))\n",
        "\n",
        "# Matrix / vector product; both produce the rank 1 array [29 67]\n",
        "print(x.dot(v))\n",
        "print(np.dot(x, v))\n",
        "\n",
        "# Matrix / matrix product; both produce the rank 2 array\n",
        "# [[19 22]\n",
        "#  [43 50]]\n",
        "print(x.dot(y))\n",
        "print(np.dot(x, y))"
      ],
      "execution_count": 0,
      "outputs": [
        {
          "output_type": "stream",
          "text": [
            "219\n",
            "219\n",
            "[29 67]\n",
            "[29 67]\n",
            "[[19 22]\n",
            " [43 50]]\n",
            "[[19 22]\n",
            " [43 50]]\n"
          ],
          "name": "stdout"
        }
      ]
    },
    {
      "cell_type": "code",
      "metadata": {
        "id": "kolvAbc-vzHr",
        "colab_type": "code",
        "colab": {},
        "outputId": "52c10f56-ac40-4d82-c907-8f2671e8dd0d"
      },
      "source": [
        "x = np.array([[1,2],[3,4]])\n",
        "\n",
        "print(np.sum(x))  # Compute sum of all elements; prints \"10\"\n",
        "print(np.sum(x, axis=0))  # Compute sum of each column; prints \"[4 6]\"\n",
        "print(np.sum(x, axis=1))  # Compute sum of each row; prints \"[3 7]\""
      ],
      "execution_count": 0,
      "outputs": [
        {
          "output_type": "stream",
          "text": [
            "10\n",
            "[4 6]\n",
            "[3 7]\n"
          ],
          "name": "stdout"
        }
      ]
    },
    {
      "cell_type": "code",
      "metadata": {
        "id": "1LSUguJtvzHz",
        "colab_type": "code",
        "colab": {},
        "outputId": "a35d56bb-0872-45ac-c91e-edfc86e6360a"
      },
      "source": [
        "x = np.array([[1,2], [3,4]])\n",
        "print(x)    # Prints \"[[1 2]\n",
        "            #          [3 4]]\"\n",
        "print(x.T)  # Prints \"[[1 3]\n",
        "            #          [2 4]]\"\n",
        "\n",
        "# Note that taking the transpose of a rank 1 array does nothing:\n",
        "v = np.array([1,2,3])\n",
        "print(v)    # Prints \"[1 2 3]\"\n",
        "print(v.T)  # Prints \"[1 2 3]\"\n"
      ],
      "execution_count": 0,
      "outputs": [
        {
          "output_type": "stream",
          "text": [
            "[[1 2]\n",
            " [3 4]]\n",
            "[[1 3]\n",
            " [2 4]]\n",
            "[1 2 3]\n",
            "[1 2 3]\n"
          ],
          "name": "stdout"
        }
      ]
    },
    {
      "cell_type": "code",
      "metadata": {
        "id": "6uM_OZ5evzH-",
        "colab_type": "code",
        "colab": {},
        "outputId": "6b8001ac-bfe6-4ce4-e7da-472284dd1df8"
      },
      "source": [
        "\n",
        "# We will add the vector v to each row of the matrix x,\n",
        "# storing the result in the matrix y\n",
        "x = np.array([[1,2,3], [4,5,6], [7,8,9], [10, 11, 12]])\n",
        "v = np.array([1, 0, 1])\n",
        "y = np.empty_like(x)   # Create an empty matrix with the same shape as x\n",
        "\n",
        "# Add the vector v to each row of the matrix x with an explicit loop\n",
        "for i in range(4):\n",
        "    y[i, :] = x[i, :] + v\n",
        "\n",
        "# Now y is the following\n",
        "# [[ 2  2  4]\n",
        "#  [ 5  5  7]\n",
        "#  [ 8  8 10]\n",
        "#  [11 11 13]]\n",
        "print(y)"
      ],
      "execution_count": 0,
      "outputs": [
        {
          "output_type": "stream",
          "text": [
            "[[ 2  2  4]\n",
            " [ 5  5  7]\n",
            " [ 8  8 10]\n",
            " [11 11 13]]\n"
          ],
          "name": "stdout"
        }
      ]
    },
    {
      "cell_type": "code",
      "metadata": {
        "id": "g2O6anMKvzIG",
        "colab_type": "code",
        "colab": {},
        "outputId": "6ecba48f-3851-4119-eb7f-4a8892233693"
      },
      "source": [
        "# We will add the vector v to each row of the matrix x,\n",
        "# storing the result in the matrix y\n",
        "x = np.array([[1,2,3], [4,5,6], [7,8,9], [10, 11, 12]])\n",
        "v = np.array([1, 0, 1])\n",
        "vv = np.tile(v, (4, 1))   # Stack 4 copies of v on top of each other\n",
        "print(vv)                 # Prints \"[[1 0 1]\n",
        "                          #          [1 0 1]\n",
        "                          #          [1 0 1]\n",
        "                          #          [1 0 1]]\"\n",
        "y = x + vv  # Add x and vv elementwise\n",
        "print(y)  # Prints \"[[ 2  2  4\n",
        "          #          [ 5  5  7]\n",
        "          #          [ 8  8 10]\n",
        "          #          [11 11 13]]\""
      ],
      "execution_count": 0,
      "outputs": [
        {
          "output_type": "stream",
          "text": [
            "[[1 0 1]\n",
            " [1 0 1]\n",
            " [1 0 1]\n",
            " [1 0 1]]\n",
            "[[ 2  2  4]\n",
            " [ 5  5  7]\n",
            " [ 8  8 10]\n",
            " [11 11 13]]\n"
          ],
          "name": "stdout"
        }
      ]
    },
    {
      "cell_type": "code",
      "metadata": {
        "id": "Hbg3wN67vzIN",
        "colab_type": "code",
        "colab": {},
        "outputId": "1129fcc4-9c54-4159-fe17-b18bb1beb157"
      },
      "source": [
        "# We will add the vector v to each row of the matrix x,\n",
        "# storing the result in the matrix y\n",
        "x = np.array([[1,2,3], [4,5,6], [7,8,9], [10, 11, 12]])\n",
        "v = np.array([1, 0, 1])\n",
        "y = x + v  # Add v to each row of x using broadcasting\n",
        "print(y)  # Prints \"[[ 2  2  4]\n",
        "          #          [ 5  5  7]\n",
        "          #          [ 8  8 10]\n",
        "          #          [11 11 13]]\""
      ],
      "execution_count": 0,
      "outputs": [
        {
          "output_type": "stream",
          "text": [
            "[[ 2  2  4]\n",
            " [ 5  5  7]\n",
            " [ 8  8 10]\n",
            " [11 11 13]]\n"
          ],
          "name": "stdout"
        }
      ]
    },
    {
      "cell_type": "code",
      "metadata": {
        "id": "H2ycZdEHvzIU",
        "colab_type": "code",
        "colab": {},
        "outputId": "a80411d7-3b1a-4934-9f27-2540b6607fb9"
      },
      "source": [
        "# Compute outer product of vectors\n",
        "v = np.array([1,2,3])  # v has shape (3,)\n",
        "w = np.array([4,5])    # w has shape (2,)\n",
        "# To compute an outer product, we first reshape v to be a column\n",
        "# vector of shape (3, 1); we can then broadcast it against w to yield\n",
        "# an output of shape (3, 2), which is the outer product of v and w:\n",
        "# [[ 4  5]\n",
        "#  [ 8 10]\n",
        "#  [12 15]]\n",
        "print(np.reshape(v, (3, 1)) * w)\n",
        "\n",
        "# Add a vector to each row of a matrix\n",
        "x = np.array([[1,2,3], [4,5,6]])\n",
        "# x has shape (2, 3) and v has shape (3,) so they broadcast to (2, 3),\n",
        "# giving the following matrix:\n",
        "# [[2 4 6]\n",
        "#  [5 7 9]]\n",
        "print(x + v)\n",
        "\n",
        "# Add a vector to each column of a matrix\n",
        "# x has shape (2, 3) and w has shape (2,).\n",
        "# If we transpose x then it has shape (3, 2) and can be broadcast\n",
        "# against w to yield a result of shape (3, 2); transposing this result\n",
        "# yields the final result of shape (2, 3) which is the matrix x with\n",
        "# the vector w added to each column. Gives the following matrix:\n",
        "# [[ 5  6  7]\n",
        "#  [ 9 10 11]]\n",
        "print((x.T + w).T)\n",
        "# Another solution is to reshape w to be a column vector of shape (2, 1);\n",
        "# we can then broadcast it directly against x to produce the same\n",
        "# output.\n",
        "print(x + np.reshape(w, (2, 1)))\n",
        "\n",
        "# Multiply a matrix by a constant:\n",
        "# x has shape (2, 3). Numpy treats scalars as arrays of shape ();\n",
        "# these can be broadcast together to shape (2, 3), producing the\n",
        "# following array:\n",
        "# [[ 2  4  6]\n",
        "#  [ 8 10 12]]\n",
        "print(x * 2)"
      ],
      "execution_count": 0,
      "outputs": [
        {
          "output_type": "stream",
          "text": [
            "[[ 4  5]\n",
            " [ 8 10]\n",
            " [12 15]]\n",
            "[[2 4 6]\n",
            " [5 7 9]]\n",
            "[[ 5  6  7]\n",
            " [ 9 10 11]]\n",
            "[[ 5  6  7]\n",
            " [ 9 10 11]]\n",
            "[[ 2  4  6]\n",
            " [ 8 10 12]]\n"
          ],
          "name": "stdout"
        }
      ]
    },
    {
      "cell_type": "markdown",
      "metadata": {
        "id": "RtQGs3GxvzIa",
        "colab_type": "text"
      },
      "source": [
        "### Matplotlib"
      ]
    },
    {
      "cell_type": "code",
      "metadata": {
        "id": "eqj6B_LRvzIc",
        "colab_type": "code",
        "colab": {},
        "outputId": "7c4b4d5d-a58f-408b-a4ed-e76578b22aee"
      },
      "source": [
        "import matplotlib.pyplot as plt\n",
        "import numpy as np\n",
        "\n",
        "data = np.arange(100, 201)\n",
        "plt.plot(data)\n",
        "plt.show()"
      ],
      "execution_count": 0,
      "outputs": [
        {
          "output_type": "display_data",
          "data": {
            "text/plain": [
              "<Figure size 640x480 with 1 Axes>"
            ]
          },
          "metadata": {
            "tags": []
          }
        }
      ]
    },
    {
      "cell_type": "code",
      "metadata": {
        "id": "Jz4P3A4QvzIj",
        "colab_type": "code",
        "colab": {},
        "outputId": "a293b867-a9d4-434a-942c-0b1a92b3890c"
      },
      "source": [
        "data = np.arange(100, 201)\n",
        "plt.plot(data)\n",
        "\n",
        "data2 = np.arange(200, 301)\n",
        "plt.figure()\n",
        "plt.plot(data2)\n",
        "\n",
        "plt.show()"
      ],
      "execution_count": 0,
      "outputs": [
        {
          "output_type": "display_data",
          "data": {
            "image/png": "[encoded data removed]",
            "text/plain": [
              "<Figure size 432x288 with 1 Axes>"
            ]
          },
          "metadata": {
            "tags": [],
            "needs_background": "light"
          }
        },
        {
          "output_type": "display_data",
          "data": {
            "image/png": "[encoded data removed]",
            "text/plain": [
              "<Figure size 432x288 with 1 Axes>"
            ]
          },
          "metadata": {
            "tags": [],
            "needs_background": "light"
          }
        }
      ]
    },
    {
      "cell_type": "code",
      "metadata": {
        "id": "AHKPhYThvzIp",
        "colab_type": "code",
        "colab": {},
        "outputId": "e8ac193e-89c8-4e1f-b0f7-bf8d1c7ed00f"
      },
      "source": [
        "data = np.arange(100, 201)\n",
        "plt.subplot(2, 1, 1)\n",
        "plt.plot(data)\n",
        "\n",
        "data2 = np.arange(200, 301)\n",
        "plt.subplot(2, 1, 2)\n",
        "plt.plot(data2)\n",
        "\n",
        "plt.show()"
      ],
      "execution_count": 0,
      "outputs": [
        {
          "output_type": "display_data",
          "data": {
            "image/png": "[encoded data removed]",
            "text/plain": [
              "<Figure size 432x288 with 2 Axes>"
            ]
          },
          "metadata": {
            "tags": [],
            "needs_background": "light"
          }
        }
      ]
    },
    {
      "cell_type": "code",
      "metadata": {
        "id": "dgAcKNHDvzI1",
        "colab_type": "code",
        "colab": {},
        "outputId": "5ba444f6-ef34-4a82-9c0c-ac31fc854046"
      },
      "source": [
        "data = np.arange(100, 201)\n",
        "plt.subplot(211)\n",
        "plt.plot(data)\n",
        "\n",
        "data2 = np.arange(200, 301)\n",
        "plt.subplot(212)\n",
        "plt.plot(data2)\n",
        "\n",
        "plt.show()"
      ],
      "execution_count": 0,
      "outputs": [
        {
          "output_type": "display_data",
          "data": {
            "image/png": "[encoded data removed]",
            "text/plain": [
              "<Figure size 432x288 with 2 Axes>"
            ]
          },
          "metadata": {
            "tags": [],
            "needs_background": "light"
          }
        }
      ]
    },
    {
      "cell_type": "code",
      "metadata": {
        "id": "yRagA6jovzI8",
        "colab_type": "code",
        "colab": {},
        "outputId": "e1246b38-1a55-4b1b-bca1-e7df35283a21"
      },
      "source": [
        "plt.plot([1, 2, 3], [3, 6, 9], '-r')\n",
        "plt.plot([1, 2, 3], [2, 4, 9], ':g')\n",
        "\n",
        "plt.show()"
      ],
      "execution_count": 0,
      "outputs": [
        {
          "output_type": "display_data",
          "data": {
            "image/png": "[encoded data removed]",
            "text/plain": [
              "<Figure size 432x288 with 1 Axes>"
            ]
          },
          "metadata": {
            "tags": [],
            "needs_background": "light"
          }
        }
      ]
    },
    {
      "cell_type": "code",
      "metadata": {
        "id": "z96V79SXvzJC",
        "colab_type": "code",
        "colab": {},
        "outputId": "8432260e-7746-4081-a1c8-c0729c414410"
      },
      "source": [
        "N = 20\n",
        "\n",
        "plt.scatter(np.random.rand(N) * 100,\n",
        "            np.random.rand(N) * 100,\n",
        "            c='r', s=100, alpha=0.5)\n",
        "\n",
        "plt.scatter(np.random.rand(N) * 100,\n",
        "            np.random.rand(N) * 100,\n",
        "            c='g', s=200, alpha=0.5)\n",
        "\n",
        "plt.scatter(np.random.rand(N) * 100,\n",
        "            np.random.rand(N) * 100,\n",
        "            c='b', s=300, alpha=0.5)\n",
        "\n",
        "plt.show()"
      ],
      "execution_count": 0,
      "outputs": [
        {
          "output_type": "display_data",
          "data": {
            "image/png": "[encoded data removed]",
            "text/plain": [
              "<Figure size 432x288 with 1 Axes>"
            ]
          },
          "metadata": {
            "tags": [],
            "needs_background": "light"
          }
        }
      ]
    },
    {
      "cell_type": "code",
      "metadata": {
        "id": "mnO67-e8vzJI",
        "colab_type": "code",
        "colab": {},
        "outputId": "d90173bc-f5fb-4755-a772-8cfe367996b3"
      },
      "source": [
        "\n",
        "N = 7\n",
        "\n",
        "x = np.arange(N)\n",
        "data = np.random.randint(low=0, high=100, size=N)\n",
        "colors = np.random.rand(N * 3).reshape(N, -1)\n",
        "labels = ['Mon', 'Tue', 'Wed', 'Thu', 'Fri', 'Sat', 'Sun']\n",
        "\n",
        "plt.title(\"Weekday Data\")\n",
        "plt.bar(x, data, alpha=0.8, color=colors, tick_label=labels)\n",
        "plt.show()"
      ],
      "execution_count": 0,
      "outputs": [
        {
          "output_type": "display_data",
          "data": {
            "image/png": "[encoded data removed]",
            "text/plain": [
              "<Figure size 432x288 with 1 Axes>"
            ]
          },
          "metadata": {
            "tags": [],
            "needs_background": "light"
          }
        }
      ]
    },
    {
      "cell_type": "code",
      "metadata": {
        "id": "oNZqtQD2vzJO",
        "colab_type": "code",
        "colab": {}
      },
      "source": [
        ""
      ],
      "execution_count": 0,
      "outputs": []
    },
    {
      "cell_type": "markdown",
      "metadata": {
        "id": "BnLmffKovzJV",
        "colab_type": "text"
      },
      "source": [
        "### Pandas"
      ]
    },
    {
      "cell_type": "code",
      "metadata": {
        "id": "m3QKu97yvzJX",
        "colab_type": "code",
        "colab": {}
      },
      "source": [
        "import numpy as np\n",
        "import pandas as pd"
      ],
      "execution_count": 0,
      "outputs": []
    },
    {
      "cell_type": "code",
      "metadata": {
        "id": "ksJHl4jLvzJd",
        "colab_type": "code",
        "colab": {}
      },
      "source": [
        "s = pd.Series([1, 3, 5, np.nan, 6, 8])"
      ],
      "execution_count": 0,
      "outputs": []
    },
    {
      "cell_type": "code",
      "metadata": {
        "id": "6bc5YMyhvzJj",
        "colab_type": "code",
        "colab": {},
        "outputId": "02d52fab-d9b2-4df4-b49e-fef348d2639f"
      },
      "source": [
        "s"
      ],
      "execution_count": 0,
      "outputs": [
        {
          "output_type": "execute_result",
          "data": {
            "text/plain": [
              "0    1.0\n",
              "1    3.0\n",
              "2    5.0\n",
              "3    NaN\n",
              "4    6.0\n",
              "5    8.0\n",
              "dtype: float64"
            ]
          },
          "metadata": {
            "tags": []
          },
          "execution_count": 27
        }
      ]
    },
    {
      "cell_type": "code",
      "metadata": {
        "id": "OjzA2EzIvzJp",
        "colab_type": "code",
        "colab": {}
      },
      "source": [
        "dates = pd.date_range('20130101', periods=6)"
      ],
      "execution_count": 0,
      "outputs": []
    },
    {
      "cell_type": "code",
      "metadata": {
        "id": "3R3mniCnvzJv",
        "colab_type": "code",
        "colab": {},
        "outputId": "9dfbabc2-7480-4f86-8d97-bd3d2576f93a"
      },
      "source": [
        "dates"
      ],
      "execution_count": 0,
      "outputs": [
        {
          "output_type": "execute_result",
          "data": {
            "text/plain": [
              "DatetimeIndex(['2013-01-01', '2013-01-02', '2013-01-03', '2013-01-04',\n",
              "               '2013-01-05', '2013-01-06'],\n",
              "              dtype='datetime64[ns]', freq='D')"
            ]
          },
          "metadata": {
            "tags": []
          },
          "execution_count": 29
        }
      ]
    },
    {
      "cell_type": "code",
      "metadata": {
        "id": "3n0fq1QzvzJ2",
        "colab_type": "code",
        "colab": {}
      },
      "source": [
        "df2 = pd.DataFrame({'A': 1.,\n",
        "                   'B': pd.Timestamp('20130102'),\n",
        "                   'C': pd.Series(1, index=list(range(4)), dtype='float32'),\n",
        "                    'D': np.array([3] * 4, dtype='int32'),\n",
        "                     'E': pd.Categorical([\"test\", \"train\", \"test\", \"train\"]),\n",
        "                    'F': 'foo'})"
      ],
      "execution_count": 0,
      "outputs": []
    },
    {
      "cell_type": "code",
      "metadata": {
        "id": "YzRmwx4XvzJ_",
        "colab_type": "code",
        "colab": {},
        "outputId": "147a84c5-b7b6-4eae-e0de-088a6b522261"
      },
      "source": [
        "df2"
      ],
      "execution_count": 0,
      "outputs": [
        {
          "output_type": "execute_result",
          "data": {
            "text/html": [
              "<div>\n",
              "<style scoped>\n",
              "    .dataframe tbody tr th:only-of-type {\n",
              "        vertical-align: middle;\n",
              "    }\n",
              "\n",
              "    .dataframe tbody tr th {\n",
              "        vertical-align: top;\n",
              "    }\n",
              "\n",
              "    .dataframe thead th {\n",
              "        text-align: right;\n",
              "    }\n",
              "</style>\n",
              "<table border=\"1\" class=\"dataframe\">\n",
              "  <thead>\n",
              "    <tr style=\"text-align: right;\">\n",
              "      <th></th>\n",
              "      <th>A</th>\n",
              "      <th>B</th>\n",
              "      <th>C</th>\n",
              "      <th>D</th>\n",
              "      <th>E</th>\n",
              "      <th>F</th>\n",
              "    </tr>\n",
              "  </thead>\n",
              "  <tbody>\n",
              "    <tr>\n",
              "      <th>0</th>\n",
              "      <td>1.0</td>\n",
              "      <td>2013-01-02</td>\n",
              "      <td>1.0</td>\n",
              "      <td>3</td>\n",
              "      <td>test</td>\n",
              "      <td>foo</td>\n",
              "    </tr>\n",
              "    <tr>\n",
              "      <th>1</th>\n",
              "      <td>1.0</td>\n",
              "      <td>2013-01-02</td>\n",
              "      <td>1.0</td>\n",
              "      <td>3</td>\n",
              "      <td>train</td>\n",
              "      <td>foo</td>\n",
              "    </tr>\n",
              "    <tr>\n",
              "      <th>2</th>\n",
              "      <td>1.0</td>\n",
              "      <td>2013-01-02</td>\n",
              "      <td>1.0</td>\n",
              "      <td>3</td>\n",
              "      <td>test</td>\n",
              "      <td>foo</td>\n",
              "    </tr>\n",
              "    <tr>\n",
              "      <th>3</th>\n",
              "      <td>1.0</td>\n",
              "      <td>2013-01-02</td>\n",
              "      <td>1.0</td>\n",
              "      <td>3</td>\n",
              "      <td>train</td>\n",
              "      <td>foo</td>\n",
              "    </tr>\n",
              "  </tbody>\n",
              "</table>\n",
              "</div>"
            ],
            "text/plain": [
              "     A          B    C  D      E    F\n",
              "0  1.0 2013-01-02  1.0  3   test  foo\n",
              "1  1.0 2013-01-02  1.0  3  train  foo\n",
              "2  1.0 2013-01-02  1.0  3   test  foo\n",
              "3  1.0 2013-01-02  1.0  3  train  foo"
            ]
          },
          "metadata": {
            "tags": []
          },
          "execution_count": 31
        }
      ]
    },
    {
      "cell_type": "code",
      "metadata": {
        "id": "WvmCgdY4vzKK",
        "colab_type": "code",
        "colab": {},
        "outputId": "578514c4-6f5b-4d45-e61e-f98e24e74623"
      },
      "source": [
        "df2.dtypes"
      ],
      "execution_count": 0,
      "outputs": [
        {
          "output_type": "execute_result",
          "data": {
            "text/plain": [
              "A           float64\n",
              "B    datetime64[ns]\n",
              "C           float32\n",
              "D             int32\n",
              "E          category\n",
              "F            object\n",
              "dtype: object"
            ]
          },
          "metadata": {
            "tags": []
          },
          "execution_count": 32
        }
      ]
    },
    {
      "cell_type": "code",
      "metadata": {
        "id": "9MkRqO28vzKS",
        "colab_type": "code",
        "colab": {},
        "outputId": "0ee96134-9c34-4e32-9c3a-9b21b4030af2"
      },
      "source": [
        "df2.head()"
      ],
      "execution_count": 0,
      "outputs": [
        {
          "output_type": "execute_result",
          "data": {
            "text/html": [
              "<div>\n",
              "<style scoped>\n",
              "    .dataframe tbody tr th:only-of-type {\n",
              "        vertical-align: middle;\n",
              "    }\n",
              "\n",
              "    .dataframe tbody tr th {\n",
              "        vertical-align: top;\n",
              "    }\n",
              "\n",
              "    .dataframe thead th {\n",
              "        text-align: right;\n",
              "    }\n",
              "</style>\n",
              "<table border=\"1\" class=\"dataframe\">\n",
              "  <thead>\n",
              "    <tr style=\"text-align: right;\">\n",
              "      <th></th>\n",
              "      <th>A</th>\n",
              "      <th>B</th>\n",
              "      <th>C</th>\n",
              "      <th>D</th>\n",
              "      <th>E</th>\n",
              "      <th>F</th>\n",
              "    </tr>\n",
              "  </thead>\n",
              "  <tbody>\n",
              "    <tr>\n",
              "      <th>0</th>\n",
              "      <td>1.0</td>\n",
              "      <td>2013-01-02</td>\n",
              "      <td>1.0</td>\n",
              "      <td>3</td>\n",
              "      <td>test</td>\n",
              "      <td>foo</td>\n",
              "    </tr>\n",
              "    <tr>\n",
              "      <th>1</th>\n",
              "      <td>1.0</td>\n",
              "      <td>2013-01-02</td>\n",
              "      <td>1.0</td>\n",
              "      <td>3</td>\n",
              "      <td>train</td>\n",
              "      <td>foo</td>\n",
              "    </tr>\n",
              "    <tr>\n",
              "      <th>2</th>\n",
              "      <td>1.0</td>\n",
              "      <td>2013-01-02</td>\n",
              "      <td>1.0</td>\n",
              "      <td>3</td>\n",
              "      <td>test</td>\n",
              "      <td>foo</td>\n",
              "    </tr>\n",
              "    <tr>\n",
              "      <th>3</th>\n",
              "      <td>1.0</td>\n",
              "      <td>2013-01-02</td>\n",
              "      <td>1.0</td>\n",
              "      <td>3</td>\n",
              "      <td>train</td>\n",
              "      <td>foo</td>\n",
              "    </tr>\n",
              "  </tbody>\n",
              "</table>\n",
              "</div>"
            ],
            "text/plain": [
              "     A          B    C  D      E    F\n",
              "0  1.0 2013-01-02  1.0  3   test  foo\n",
              "1  1.0 2013-01-02  1.0  3  train  foo\n",
              "2  1.0 2013-01-02  1.0  3   test  foo\n",
              "3  1.0 2013-01-02  1.0  3  train  foo"
            ]
          },
          "metadata": {
            "tags": []
          },
          "execution_count": 33
        }
      ]
    },
    {
      "cell_type": "code",
      "metadata": {
        "id": "M9vk_ebHvzKc",
        "colab_type": "code",
        "colab": {},
        "outputId": "ae8e66b0-7f90-4812-c3e9-5c0ebe58ab15"
      },
      "source": [
        "df2.tail(3)"
      ],
      "execution_count": 0,
      "outputs": [
        {
          "output_type": "execute_result",
          "data": {
            "text/html": [
              "<div>\n",
              "<style scoped>\n",
              "    .dataframe tbody tr th:only-of-type {\n",
              "        vertical-align: middle;\n",
              "    }\n",
              "\n",
              "    .dataframe tbody tr th {\n",
              "        vertical-align: top;\n",
              "    }\n",
              "\n",
              "    .dataframe thead th {\n",
              "        text-align: right;\n",
              "    }\n",
              "</style>\n",
              "<table border=\"1\" class=\"dataframe\">\n",
              "  <thead>\n",
              "    <tr style=\"text-align: right;\">\n",
              "      <th></th>\n",
              "      <th>A</th>\n",
              "      <th>B</th>\n",
              "      <th>C</th>\n",
              "      <th>D</th>\n",
              "      <th>E</th>\n",
              "      <th>F</th>\n",
              "    </tr>\n",
              "  </thead>\n",
              "  <tbody>\n",
              "    <tr>\n",
              "      <th>1</th>\n",
              "      <td>1.0</td>\n",
              "      <td>2013-01-02</td>\n",
              "      <td>1.0</td>\n",
              "      <td>3</td>\n",
              "      <td>train</td>\n",
              "      <td>foo</td>\n",
              "    </tr>\n",
              "    <tr>\n",
              "      <th>2</th>\n",
              "      <td>1.0</td>\n",
              "      <td>2013-01-02</td>\n",
              "      <td>1.0</td>\n",
              "      <td>3</td>\n",
              "      <td>test</td>\n",
              "      <td>foo</td>\n",
              "    </tr>\n",
              "    <tr>\n",
              "      <th>3</th>\n",
              "      <td>1.0</td>\n",
              "      <td>2013-01-02</td>\n",
              "      <td>1.0</td>\n",
              "      <td>3</td>\n",
              "      <td>train</td>\n",
              "      <td>foo</td>\n",
              "    </tr>\n",
              "  </tbody>\n",
              "</table>\n",
              "</div>"
            ],
            "text/plain": [
              "     A          B    C  D      E    F\n",
              "1  1.0 2013-01-02  1.0  3  train  foo\n",
              "2  1.0 2013-01-02  1.0  3   test  foo\n",
              "3  1.0 2013-01-02  1.0  3  train  foo"
            ]
          },
          "metadata": {
            "tags": []
          },
          "execution_count": 34
        }
      ]
    },
    {
      "cell_type": "code",
      "metadata": {
        "id": "dYbAnibcvzKk",
        "colab_type": "code",
        "colab": {},
        "outputId": "8366e130-7c48-4881-db73-7962544302d0"
      },
      "source": [
        "df2.index"
      ],
      "execution_count": 0,
      "outputs": [
        {
          "output_type": "execute_result",
          "data": {
            "text/plain": [
              "Int64Index([0, 1, 2, 3], dtype='int64')"
            ]
          },
          "metadata": {
            "tags": []
          },
          "execution_count": 35
        }
      ]
    },
    {
      "cell_type": "code",
      "metadata": {
        "id": "qoEDnF_PvzKq",
        "colab_type": "code",
        "colab": {},
        "outputId": "f28190b7-1d5a-46bc-f4ae-3946032a38af"
      },
      "source": [
        "df2.to_numpy()"
      ],
      "execution_count": 0,
      "outputs": [
        {
          "output_type": "execute_result",
          "data": {
            "text/plain": [
              "array([[1.0, Timestamp('2013-01-02 00:00:00'), 1.0, 3, 'test', 'foo'],\n",
              "       [1.0, Timestamp('2013-01-02 00:00:00'), 1.0, 3, 'train', 'foo'],\n",
              "       [1.0, Timestamp('2013-01-02 00:00:00'), 1.0, 3, 'test', 'foo'],\n",
              "       [1.0, Timestamp('2013-01-02 00:00:00'), 1.0, 3, 'train', 'foo']],\n",
              "      dtype=object)"
            ]
          },
          "metadata": {
            "tags": []
          },
          "execution_count": 36
        }
      ]
    },
    {
      "cell_type": "code",
      "metadata": {
        "id": "JtJ7VdnSvzKw",
        "colab_type": "code",
        "colab": {},
        "outputId": "5841c2aa-772f-4285-835b-74a4c3602b42"
      },
      "source": [
        "df2.describe()"
      ],
      "execution_count": 0,
      "outputs": [
        {
          "output_type": "execute_result",
          "data": {
            "text/html": [
              "<div>\n",
              "<style scoped>\n",
              "    .dataframe tbody tr th:only-of-type {\n",
              "        vertical-align: middle;\n",
              "    }\n",
              "\n",
              "    .dataframe tbody tr th {\n",
              "        vertical-align: top;\n",
              "    }\n",
              "\n",
              "    .dataframe thead th {\n",
              "        text-align: right;\n",
              "    }\n",
              "</style>\n",
              "<table border=\"1\" class=\"dataframe\">\n",
              "  <thead>\n",
              "    <tr style=\"text-align: right;\">\n",
              "      <th></th>\n",
              "      <th>A</th>\n",
              "      <th>C</th>\n",
              "      <th>D</th>\n",
              "    </tr>\n",
              "  </thead>\n",
              "  <tbody>\n",
              "    <tr>\n",
              "      <th>count</th>\n",
              "      <td>4.0</td>\n",
              "      <td>4.0</td>\n",
              "      <td>4.0</td>\n",
              "    </tr>\n",
              "    <tr>\n",
              "      <th>mean</th>\n",
              "      <td>1.0</td>\n",
              "      <td>1.0</td>\n",
              "      <td>3.0</td>\n",
              "    </tr>\n",
              "    <tr>\n",
              "      <th>std</th>\n",
              "      <td>0.0</td>\n",
              "      <td>0.0</td>\n",
              "      <td>0.0</td>\n",
              "    </tr>\n",
              "    <tr>\n",
              "      <th>min</th>\n",
              "      <td>1.0</td>\n",
              "      <td>1.0</td>\n",
              "      <td>3.0</td>\n",
              "    </tr>\n",
              "    <tr>\n",
              "      <th>25%</th>\n",
              "      <td>1.0</td>\n",
              "      <td>1.0</td>\n",
              "      <td>3.0</td>\n",
              "    </tr>\n",
              "    <tr>\n",
              "      <th>50%</th>\n",
              "      <td>1.0</td>\n",
              "      <td>1.0</td>\n",
              "      <td>3.0</td>\n",
              "    </tr>\n",
              "    <tr>\n",
              "      <th>75%</th>\n",
              "      <td>1.0</td>\n",
              "      <td>1.0</td>\n",
              "      <td>3.0</td>\n",
              "    </tr>\n",
              "    <tr>\n",
              "      <th>max</th>\n",
              "      <td>1.0</td>\n",
              "      <td>1.0</td>\n",
              "      <td>3.0</td>\n",
              "    </tr>\n",
              "  </tbody>\n",
              "</table>\n",
              "</div>"
            ],
            "text/plain": [
              "         A    C    D\n",
              "count  4.0  4.0  4.0\n",
              "mean   1.0  1.0  3.0\n",
              "std    0.0  0.0  0.0\n",
              "min    1.0  1.0  3.0\n",
              "25%    1.0  1.0  3.0\n",
              "50%    1.0  1.0  3.0\n",
              "75%    1.0  1.0  3.0\n",
              "max    1.0  1.0  3.0"
            ]
          },
          "metadata": {
            "tags": []
          },
          "execution_count": 37
        }
      ]
    },
    {
      "cell_type": "code",
      "metadata": {
        "id": "q-GTVLGlvzK2",
        "colab_type": "code",
        "colab": {},
        "outputId": "fe2649ec-90c9-4518-fa4f-814261656f45"
      },
      "source": [
        "df2.sort_index(axis=1, ascending=False)"
      ],
      "execution_count": 0,
      "outputs": [
        {
          "output_type": "execute_result",
          "data": {
            "text/html": [
              "<div>\n",
              "<style scoped>\n",
              "    .dataframe tbody tr th:only-of-type {\n",
              "        vertical-align: middle;\n",
              "    }\n",
              "\n",
              "    .dataframe tbody tr th {\n",
              "        vertical-align: top;\n",
              "    }\n",
              "\n",
              "    .dataframe thead th {\n",
              "        text-align: right;\n",
              "    }\n",
              "</style>\n",
              "<table border=\"1\" class=\"dataframe\">\n",
              "  <thead>\n",
              "    <tr style=\"text-align: right;\">\n",
              "      <th></th>\n",
              "      <th>F</th>\n",
              "      <th>E</th>\n",
              "      <th>D</th>\n",
              "      <th>C</th>\n",
              "      <th>B</th>\n",
              "      <th>A</th>\n",
              "    </tr>\n",
              "  </thead>\n",
              "  <tbody>\n",
              "    <tr>\n",
              "      <th>0</th>\n",
              "      <td>foo</td>\n",
              "      <td>test</td>\n",
              "      <td>3</td>\n",
              "      <td>1.0</td>\n",
              "      <td>2013-01-02</td>\n",
              "      <td>1.0</td>\n",
              "    </tr>\n",
              "    <tr>\n",
              "      <th>1</th>\n",
              "      <td>foo</td>\n",
              "      <td>train</td>\n",
              "      <td>3</td>\n",
              "      <td>1.0</td>\n",
              "      <td>2013-01-02</td>\n",
              "      <td>1.0</td>\n",
              "    </tr>\n",
              "    <tr>\n",
              "      <th>2</th>\n",
              "      <td>foo</td>\n",
              "      <td>test</td>\n",
              "      <td>3</td>\n",
              "      <td>1.0</td>\n",
              "      <td>2013-01-02</td>\n",
              "      <td>1.0</td>\n",
              "    </tr>\n",
              "    <tr>\n",
              "      <th>3</th>\n",
              "      <td>foo</td>\n",
              "      <td>train</td>\n",
              "      <td>3</td>\n",
              "      <td>1.0</td>\n",
              "      <td>2013-01-02</td>\n",
              "      <td>1.0</td>\n",
              "    </tr>\n",
              "  </tbody>\n",
              "</table>\n",
              "</div>"
            ],
            "text/plain": [
              "     F      E  D    C          B    A\n",
              "0  foo   test  3  1.0 2013-01-02  1.0\n",
              "1  foo  train  3  1.0 2013-01-02  1.0\n",
              "2  foo   test  3  1.0 2013-01-02  1.0\n",
              "3  foo  train  3  1.0 2013-01-02  1.0"
            ]
          },
          "metadata": {
            "tags": []
          },
          "execution_count": 38
        }
      ]
    },
    {
      "cell_type": "code",
      "metadata": {
        "id": "O1QvznjYvzK9",
        "colab_type": "code",
        "colab": {},
        "outputId": "896abc98-7678-494f-fe84-ffacf51484aa"
      },
      "source": [
        "df2.sort_values(by='B')"
      ],
      "execution_count": 0,
      "outputs": [
        {
          "output_type": "execute_result",
          "data": {
            "text/html": [
              "<div>\n",
              "<style scoped>\n",
              "    .dataframe tbody tr th:only-of-type {\n",
              "        vertical-align: middle;\n",
              "    }\n",
              "\n",
              "    .dataframe tbody tr th {\n",
              "        vertical-align: top;\n",
              "    }\n",
              "\n",
              "    .dataframe thead th {\n",
              "        text-align: right;\n",
              "    }\n",
              "</style>\n",
              "<table border=\"1\" class=\"dataframe\">\n",
              "  <thead>\n",
              "    <tr style=\"text-align: right;\">\n",
              "      <th></th>\n",
              "      <th>A</th>\n",
              "      <th>B</th>\n",
              "      <th>C</th>\n",
              "      <th>D</th>\n",
              "      <th>E</th>\n",
              "      <th>F</th>\n",
              "    </tr>\n",
              "  </thead>\n",
              "  <tbody>\n",
              "    <tr>\n",
              "      <th>0</th>\n",
              "      <td>1.0</td>\n",
              "      <td>2013-01-02</td>\n",
              "      <td>1.0</td>\n",
              "      <td>3</td>\n",
              "      <td>test</td>\n",
              "      <td>foo</td>\n",
              "    </tr>\n",
              "    <tr>\n",
              "      <th>1</th>\n",
              "      <td>1.0</td>\n",
              "      <td>2013-01-02</td>\n",
              "      <td>1.0</td>\n",
              "      <td>3</td>\n",
              "      <td>train</td>\n",
              "      <td>foo</td>\n",
              "    </tr>\n",
              "    <tr>\n",
              "      <th>2</th>\n",
              "      <td>1.0</td>\n",
              "      <td>2013-01-02</td>\n",
              "      <td>1.0</td>\n",
              "      <td>3</td>\n",
              "      <td>test</td>\n",
              "      <td>foo</td>\n",
              "    </tr>\n",
              "    <tr>\n",
              "      <th>3</th>\n",
              "      <td>1.0</td>\n",
              "      <td>2013-01-02</td>\n",
              "      <td>1.0</td>\n",
              "      <td>3</td>\n",
              "      <td>train</td>\n",
              "      <td>foo</td>\n",
              "    </tr>\n",
              "  </tbody>\n",
              "</table>\n",
              "</div>"
            ],
            "text/plain": [
              "     A          B    C  D      E    F\n",
              "0  1.0 2013-01-02  1.0  3   test  foo\n",
              "1  1.0 2013-01-02  1.0  3  train  foo\n",
              "2  1.0 2013-01-02  1.0  3   test  foo\n",
              "3  1.0 2013-01-02  1.0  3  train  foo"
            ]
          },
          "metadata": {
            "tags": []
          },
          "execution_count": 39
        }
      ]
    },
    {
      "cell_type": "code",
      "metadata": {
        "id": "iZIlfXEmvzLE",
        "colab_type": "code",
        "colab": {},
        "outputId": "8ad90da3-7091-437d-9f32-1008c031cb2a"
      },
      "source": [
        "df2['A']"
      ],
      "execution_count": 0,
      "outputs": [
        {
          "output_type": "execute_result",
          "data": {
            "text/plain": [
              "0    1.0\n",
              "1    1.0\n",
              "2    1.0\n",
              "3    1.0\n",
              "Name: A, dtype: float64"
            ]
          },
          "metadata": {
            "tags": []
          },
          "execution_count": 40
        }
      ]
    },
    {
      "cell_type": "code",
      "metadata": {
        "id": "xHka0Aj7vzLN",
        "colab_type": "code",
        "colab": {},
        "outputId": "33f8ce30-c6ca-4ad6-f499-9c038a778051"
      },
      "source": [
        "df2[0:3]"
      ],
      "execution_count": 0,
      "outputs": [
        {
          "output_type": "execute_result",
          "data": {
            "text/html": [
              "<div>\n",
              "<style scoped>\n",
              "    .dataframe tbody tr th:only-of-type {\n",
              "        vertical-align: middle;\n",
              "    }\n",
              "\n",
              "    .dataframe tbody tr th {\n",
              "        vertical-align: top;\n",
              "    }\n",
              "\n",
              "    .dataframe thead th {\n",
              "        text-align: right;\n",
              "    }\n",
              "</style>\n",
              "<table border=\"1\" class=\"dataframe\">\n",
              "  <thead>\n",
              "    <tr style=\"text-align: right;\">\n",
              "      <th></th>\n",
              "      <th>A</th>\n",
              "      <th>B</th>\n",
              "      <th>C</th>\n",
              "      <th>D</th>\n",
              "      <th>E</th>\n",
              "      <th>F</th>\n",
              "    </tr>\n",
              "  </thead>\n",
              "  <tbody>\n",
              "    <tr>\n",
              "      <th>0</th>\n",
              "      <td>1.0</td>\n",
              "      <td>2013-01-02</td>\n",
              "      <td>1.0</td>\n",
              "      <td>3</td>\n",
              "      <td>test</td>\n",
              "      <td>foo</td>\n",
              "    </tr>\n",
              "    <tr>\n",
              "      <th>1</th>\n",
              "      <td>1.0</td>\n",
              "      <td>2013-01-02</td>\n",
              "      <td>1.0</td>\n",
              "      <td>3</td>\n",
              "      <td>train</td>\n",
              "      <td>foo</td>\n",
              "    </tr>\n",
              "    <tr>\n",
              "      <th>2</th>\n",
              "      <td>1.0</td>\n",
              "      <td>2013-01-02</td>\n",
              "      <td>1.0</td>\n",
              "      <td>3</td>\n",
              "      <td>test</td>\n",
              "      <td>foo</td>\n",
              "    </tr>\n",
              "  </tbody>\n",
              "</table>\n",
              "</div>"
            ],
            "text/plain": [
              "     A          B    C  D      E    F\n",
              "0  1.0 2013-01-02  1.0  3   test  foo\n",
              "1  1.0 2013-01-02  1.0  3  train  foo\n",
              "2  1.0 2013-01-02  1.0  3   test  foo"
            ]
          },
          "metadata": {
            "tags": []
          },
          "execution_count": 41
        }
      ]
    },
    {
      "cell_type": "code",
      "metadata": {
        "id": "DLuSFkDdvzLS",
        "colab_type": "code",
        "colab": {}
      },
      "source": [
        "df2.to_csv('foo.csv')"
      ],
      "execution_count": 0,
      "outputs": []
    },
    {
      "cell_type": "code",
      "metadata": {
        "id": "DlhsjI8zvzLa",
        "colab_type": "code",
        "colab": {},
        "outputId": "eeae9af6-3fe4-44c5-cdb9-b9aad3b6e8b5"
      },
      "source": [
        "pd.read_csv('foo.csv')"
      ],
      "execution_count": 0,
      "outputs": [
        {
          "output_type": "execute_result",
          "data": {
            "text/html": [
              "<div>\n",
              "<style scoped>\n",
              "    .dataframe tbody tr th:only-of-type {\n",
              "        vertical-align: middle;\n",
              "    }\n",
              "\n",
              "    .dataframe tbody tr th {\n",
              "        vertical-align: top;\n",
              "    }\n",
              "\n",
              "    .dataframe thead th {\n",
              "        text-align: right;\n",
              "    }\n",
              "</style>\n",
              "<table border=\"1\" class=\"dataframe\">\n",
              "  <thead>\n",
              "    <tr style=\"text-align: right;\">\n",
              "      <th></th>\n",
              "      <th>Unnamed: 0</th>\n",
              "      <th>A</th>\n",
              "      <th>B</th>\n",
              "      <th>C</th>\n",
              "      <th>D</th>\n",
              "      <th>E</th>\n",
              "      <th>F</th>\n",
              "    </tr>\n",
              "  </thead>\n",
              "  <tbody>\n",
              "    <tr>\n",
              "      <th>0</th>\n",
              "      <td>0</td>\n",
              "      <td>1.0</td>\n",
              "      <td>2013-01-02</td>\n",
              "      <td>1.0</td>\n",
              "      <td>3</td>\n",
              "      <td>test</td>\n",
              "      <td>foo</td>\n",
              "    </tr>\n",
              "    <tr>\n",
              "      <th>1</th>\n",
              "      <td>1</td>\n",
              "      <td>1.0</td>\n",
              "      <td>2013-01-02</td>\n",
              "      <td>1.0</td>\n",
              "      <td>3</td>\n",
              "      <td>train</td>\n",
              "      <td>foo</td>\n",
              "    </tr>\n",
              "    <tr>\n",
              "      <th>2</th>\n",
              "      <td>2</td>\n",
              "      <td>1.0</td>\n",
              "      <td>2013-01-02</td>\n",
              "      <td>1.0</td>\n",
              "      <td>3</td>\n",
              "      <td>test</td>\n",
              "      <td>foo</td>\n",
              "    </tr>\n",
              "    <tr>\n",
              "      <th>3</th>\n",
              "      <td>3</td>\n",
              "      <td>1.0</td>\n",
              "      <td>2013-01-02</td>\n",
              "      <td>1.0</td>\n",
              "      <td>3</td>\n",
              "      <td>train</td>\n",
              "      <td>foo</td>\n",
              "    </tr>\n",
              "  </tbody>\n",
              "</table>\n",
              "</div>"
            ],
            "text/plain": [
              "   Unnamed: 0    A           B    C  D      E    F\n",
              "0           0  1.0  2013-01-02  1.0  3   test  foo\n",
              "1           1  1.0  2013-01-02  1.0  3  train  foo\n",
              "2           2  1.0  2013-01-02  1.0  3   test  foo\n",
              "3           3  1.0  2013-01-02  1.0  3  train  foo"
            ]
          },
          "metadata": {
            "tags": []
          },
          "execution_count": 43
        }
      ]
    },
    {
      "cell_type": "code",
      "metadata": {
        "id": "hL5lAtlsvzLi",
        "colab_type": "code",
        "colab": {}
      },
      "source": [
        ""
      ],
      "execution_count": 0,
      "outputs": []
    },
    {
      "cell_type": "code",
      "metadata": {
        "id": "WQtcgxIdvzLv",
        "colab_type": "code",
        "colab": {}
      },
      "source": [
        "import numpy as np\n",
        "import tensorflow as tf\n",
        "import matplotlib.pyplot as plt"
      ],
      "execution_count": 0,
      "outputs": []
    },
    {
      "cell_type": "markdown",
      "metadata": {
        "id": "zwomZDoZvzL3",
        "colab_type": "text"
      },
      "source": [
        "### Logical operation neural networks\n",
        "\n",
        "A single layer neural network can approximate some logical operation such as 'And', 'Or', 'Not' function."
      ]
    },
    {
      "cell_type": "code",
      "metadata": {
        "id": "2xbJ0-dRvzL4",
        "colab_type": "code",
        "colab": {}
      },
      "source": [
        "NUM_FEATURES = 2\n",
        "NUM_ITER = 2000\n",
        "learning_rate = 0.01"
      ],
      "execution_count": 0,
      "outputs": []
    },
    {
      "cell_type": "code",
      "metadata": {
        "id": "I8qw0-1jvzL9",
        "colab_type": "code",
        "colab": {}
      },
      "source": [
        "x = np.array([[0, 0], [1, 0], [1, 1], [0, 1]], np.float32) # 4x2, input\n",
        "y = np.array([0, 0, 1, 0], np.float32) # 4, correct output, AND operation\n",
        "#y = np.array([0, 1, 1, 1], np.float32) # OR operation"
      ],
      "execution_count": 0,
      "outputs": []
    },
    {
      "cell_type": "code",
      "metadata": {
        "id": "tbsRo3psvzMC",
        "colab_type": "code",
        "colab": {}
      },
      "source": [
        "W = np.zeros(NUM_FEATURES, np.float32) # 2x1, weight\n",
        "b = np.zeros(1, np.float32) # 1x1\n",
        " \n",
        "N, d = np.shape(x) # number of samples and number of features"
      ],
      "execution_count": 0,
      "outputs": []
    },
    {
      "cell_type": "code",
      "metadata": {
        "id": "umf8Gdz6vzMI",
        "colab_type": "code",
        "colab": {}
      },
      "source": [
        "# process each sample separately\n",
        "for k in range(NUM_ITER):\n",
        "    for j in range(N):\n",
        "        yHat_j = x[j, :].dot(W) + b # 1x2, 2x1\n",
        "        yHat_j = 1.0 / (1.0 + np.exp(-yHat_j))\n",
        "\n",
        "        err = y[j] - yHat_j # error term\n",
        "        deltaW = err * x[j, :]\n",
        "        deltaB = err\n",
        "        W = W + learning_rate * deltaW # if err = y - yHat, then W = W + lRate * deltW\n",
        "        b = b + learning_rate * deltaB"
      ],
      "execution_count": 0,
      "outputs": []
    },
    {
      "cell_type": "code",
      "metadata": {
        "id": "TJhb0_2ZvzMO",
        "colab_type": "code",
        "colab": {}
      },
      "source": [
        "# Now plot the fitted line. We need only two points to plot the line\n",
        "plot_x = np.array([np.min(x[:, 0] - 0.2), np.max(x[:, 1]+0.2)])\n",
        "plot_y = - 1 / W[1] * (W[0] * plot_x + b) # comes from, w0*x + w1*y + b = 0 then y = (-1/w1) (w0*x + b)"
      ],
      "execution_count": 0,
      "outputs": []
    },
    {
      "cell_type": "code",
      "metadata": {
        "id": "f1obrHjGvzMU",
        "colab_type": "code",
        "colab": {},
        "outputId": "48258ee5-659d-46ad-c86d-26520a7ec2ef"
      },
      "source": [
        "print('W:' + str(W))\n",
        "print('b:' + str(b))\n",
        "print('plot_y: '+ str(plot_y))"
      ],
      "execution_count": 0,
      "outputs": [
        {
          "output_type": "stream",
          "text": [
            "W:[2.69495   2.6909127]\n",
            "b:[-4.268221]\n",
            "plot_y: [1.7864611 0.3843605]\n"
          ],
          "name": "stdout"
        }
      ]
    },
    {
      "cell_type": "code",
      "metadata": {
        "id": "9nSF9k2_vzMZ",
        "colab_type": "code",
        "colab": {},
        "outputId": "e71dc429-8442-4c93-adb5-0b5a0dd6336d"
      },
      "source": [
        "plt.scatter(x[:, 0], x[:, 1], c=y, s=100, cmap='viridis')\n",
        "plt.plot(plot_x, plot_y, color='k', linewidth=2)\n",
        "plt.xlim([-0.2, 1.2]); plt.ylim([-0.2, 1.25]);\n",
        "plt.show()"
      ],
      "execution_count": 0,
      "outputs": [
        {
          "output_type": "display_data",
          "data": {
            "image/png": "[encoded data removed]",
            "text/plain": [
              "<Figure size 432x288 with 1 Axes>"
            ]
          },
          "metadata": {
            "tags": [],
            "needs_background": "light"
          }
        }
      ]
    },
    {
      "cell_type": "code",
      "metadata": {
        "id": "5b0suxz7vzMf",
        "colab_type": "code",
        "colab": {}
      },
      "source": [
        "from sklearn.datasets import load_iris\n",
        "from sklearn.model_selection import train_test_split\n",
        "from tensorflow.keras.layers import Dense\n",
        "from tensorflow.keras.models import Sequential\n",
        "from tensorflow.keras.utils import to_categorical"
      ],
      "execution_count": 0,
      "outputs": []
    },
    {
      "cell_type": "code",
      "metadata": {
        "id": "Q_dEYzAFvzMj",
        "colab_type": "code",
        "colab": {}
      },
      "source": [
        "iris = load_iris()"
      ],
      "execution_count": 0,
      "outputs": []
    },
    {
      "cell_type": "markdown",
      "metadata": {
        "id": "0wtwku28vzMt",
        "colab_type": "text"
      },
      "source": [
        "### Iris Dataset:\n",
        "\n",
        "This is perhaps the best known database to be found in the pattern recognition literature. Fisher's paper is a classic in the field and is referenced frequently to this day. (See Duda & Hart, for example.) The data set contains 3 classes of 50 instances each, where each class refers to a type of iris plant. One class is linearly separable from the other 2; the latter are NOT linearly separable from each other. \n",
        "\n",
        "Predicted attribute: class of iris plant.\n",
        "\n",
        "#### Attribute Information:\n",
        "\n",
        "1. sepal length in cm \n",
        "2. sepal width in cm \n",
        "3. petal length in cm \n",
        "4. petal width in cm \n",
        "\n",
        "#### Classes: \n",
        "\n",
        "1. Iris Setosa \n",
        "2. Iris Versicolour \n",
        "3. Iris Virginica"
      ]
    },
    {
      "cell_type": "code",
      "metadata": {
        "id": "JKUtuLmXvzMu",
        "colab_type": "code",
        "colab": {},
        "outputId": "75ecf990-7d6e-43f3-df90-ff86af01536a"
      },
      "source": [
        "iris.data"
      ],
      "execution_count": 0,
      "outputs": [
        {
          "output_type": "execute_result",
          "data": {
            "text/plain": [
              "array([[5.1, 3.5, 1.4, 0.2],\n",
              "       [4.9, 3. , 1.4, 0.2],\n",
              "       [4.7, 3.2, 1.3, 0.2],\n",
              "       [4.6, 3.1, 1.5, 0.2],\n",
              "       [5. , 3.6, 1.4, 0.2],\n",
              "       [5.4, 3.9, 1.7, 0.4],\n",
              "       [4.6, 3.4, 1.4, 0.3],\n",
              "       [5. , 3.4, 1.5, 0.2],\n",
              "       [4.4, 2.9, 1.4, 0.2],\n",
              "       [4.9, 3.1, 1.5, 0.1],\n",
              "       [5.4, 3.7, 1.5, 0.2],\n",
              "       [4.8, 3.4, 1.6, 0.2],\n",
              "       [4.8, 3. , 1.4, 0.1],\n",
              "       [4.3, 3. , 1.1, 0.1],\n",
              "       [5.8, 4. , 1.2, 0.2],\n",
              "       [5.7, 4.4, 1.5, 0.4],\n",
              "       [5.4, 3.9, 1.3, 0.4],\n",
              "       [5.1, 3.5, 1.4, 0.3],\n",
              "       [5.7, 3.8, 1.7, 0.3],\n",
              "       [5.1, 3.8, 1.5, 0.3],\n",
              "       [5.4, 3.4, 1.7, 0.2],\n",
              "       [5.1, 3.7, 1.5, 0.4],\n",
              "       [4.6, 3.6, 1. , 0.2],\n",
              "       [5.1, 3.3, 1.7, 0.5],\n",
              "       [4.8, 3.4, 1.9, 0.2],\n",
              "       [5. , 3. , 1.6, 0.2],\n",
              "       [5. , 3.4, 1.6, 0.4],\n",
              "       [5.2, 3.5, 1.5, 0.2],\n",
              "       [5.2, 3.4, 1.4, 0.2],\n",
              "       [4.7, 3.2, 1.6, 0.2],\n",
              "       [4.8, 3.1, 1.6, 0.2],\n",
              "       [5.4, 3.4, 1.5, 0.4],\n",
              "       [5.2, 4.1, 1.5, 0.1],\n",
              "       [5.5, 4.2, 1.4, 0.2],\n",
              "       [4.9, 3.1, 1.5, 0.2],\n",
              "       [5. , 3.2, 1.2, 0.2],\n",
              "       [5.5, 3.5, 1.3, 0.2],\n",
              "       [4.9, 3.6, 1.4, 0.1],\n",
              "       [4.4, 3. , 1.3, 0.2],\n",
              "       [5.1, 3.4, 1.5, 0.2],\n",
              "       [5. , 3.5, 1.3, 0.3],\n",
              "       [4.5, 2.3, 1.3, 0.3],\n",
              "       [4.4, 3.2, 1.3, 0.2],\n",
              "       [5. , 3.5, 1.6, 0.6],\n",
              "       [5.1, 3.8, 1.9, 0.4],\n",
              "       [4.8, 3. , 1.4, 0.3],\n",
              "       [5.1, 3.8, 1.6, 0.2],\n",
              "       [4.6, 3.2, 1.4, 0.2],\n",
              "       [5.3, 3.7, 1.5, 0.2],\n",
              "       [5. , 3.3, 1.4, 0.2],\n",
              "       [7. , 3.2, 4.7, 1.4],\n",
              "       [6.4, 3.2, 4.5, 1.5],\n",
              "       [6.9, 3.1, 4.9, 1.5],\n",
              "       [5.5, 2.3, 4. , 1.3],\n",
              "       [6.5, 2.8, 4.6, 1.5],\n",
              "       [5.7, 2.8, 4.5, 1.3],\n",
              "       [6.3, 3.3, 4.7, 1.6],\n",
              "       [4.9, 2.4, 3.3, 1. ],\n",
              "       [6.6, 2.9, 4.6, 1.3],\n",
              "       [5.2, 2.7, 3.9, 1.4],\n",
              "       [5. , 2. , 3.5, 1. ],\n",
              "       [5.9, 3. , 4.2, 1.5],\n",
              "       [6. , 2.2, 4. , 1. ],\n",
              "       [6.1, 2.9, 4.7, 1.4],\n",
              "       [5.6, 2.9, 3.6, 1.3],\n",
              "       [6.7, 3.1, 4.4, 1.4],\n",
              "       [5.6, 3. , 4.5, 1.5],\n",
              "       [5.8, 2.7, 4.1, 1. ],\n",
              "       [6.2, 2.2, 4.5, 1.5],\n",
              "       [5.6, 2.5, 3.9, 1.1],\n",
              "       [5.9, 3.2, 4.8, 1.8],\n",
              "       [6.1, 2.8, 4. , 1.3],\n",
              "       [6.3, 2.5, 4.9, 1.5],\n",
              "       [6.1, 2.8, 4.7, 1.2],\n",
              "       [6.4, 2.9, 4.3, 1.3],\n",
              "       [6.6, 3. , 4.4, 1.4],\n",
              "       [6.8, 2.8, 4.8, 1.4],\n",
              "       [6.7, 3. , 5. , 1.7],\n",
              "       [6. , 2.9, 4.5, 1.5],\n",
              "       [5.7, 2.6, 3.5, 1. ],\n",
              "       [5.5, 2.4, 3.8, 1.1],\n",
              "       [5.5, 2.4, 3.7, 1. ],\n",
              "       [5.8, 2.7, 3.9, 1.2],\n",
              "       [6. , 2.7, 5.1, 1.6],\n",
              "       [5.4, 3. , 4.5, 1.5],\n",
              "       [6. , 3.4, 4.5, 1.6],\n",
              "       [6.7, 3.1, 4.7, 1.5],\n",
              "       [6.3, 2.3, 4.4, 1.3],\n",
              "       [5.6, 3. , 4.1, 1.3],\n",
              "       [5.5, 2.5, 4. , 1.3],\n",
              "       [5.5, 2.6, 4.4, 1.2],\n",
              "       [6.1, 3. , 4.6, 1.4],\n",
              "       [5.8, 2.6, 4. , 1.2],\n",
              "       [5. , 2.3, 3.3, 1. ],\n",
              "       [5.6, 2.7, 4.2, 1.3],\n",
              "       [5.7, 3. , 4.2, 1.2],\n",
              "       [5.7, 2.9, 4.2, 1.3],\n",
              "       [6.2, 2.9, 4.3, 1.3],\n",
              "       [5.1, 2.5, 3. , 1.1],\n",
              "       [5.7, 2.8, 4.1, 1.3],\n",
              "       [6.3, 3.3, 6. , 2.5],\n",
              "       [5.8, 2.7, 5.1, 1.9],\n",
              "       [7.1, 3. , 5.9, 2.1],\n",
              "       [6.3, 2.9, 5.6, 1.8],\n",
              "       [6.5, 3. , 5.8, 2.2],\n",
              "       [7.6, 3. , 6.6, 2.1],\n",
              "       [4.9, 2.5, 4.5, 1.7],\n",
              "       [7.3, 2.9, 6.3, 1.8],\n",
              "       [6.7, 2.5, 5.8, 1.8],\n",
              "       [7.2, 3.6, 6.1, 2.5],\n",
              "       [6.5, 3.2, 5.1, 2. ],\n",
              "       [6.4, 2.7, 5.3, 1.9],\n",
              "       [6.8, 3. , 5.5, 2.1],\n",
              "       [5.7, 2.5, 5. , 2. ],\n",
              "       [5.8, 2.8, 5.1, 2.4],\n",
              "       [6.4, 3.2, 5.3, 2.3],\n",
              "       [6.5, 3. , 5.5, 1.8],\n",
              "       [7.7, 3.8, 6.7, 2.2],\n",
              "       [7.7, 2.6, 6.9, 2.3],\n",
              "       [6. , 2.2, 5. , 1.5],\n",
              "       [6.9, 3.2, 5.7, 2.3],\n",
              "       [5.6, 2.8, 4.9, 2. ],\n",
              "       [7.7, 2.8, 6.7, 2. ],\n",
              "       [6.3, 2.7, 4.9, 1.8],\n",
              "       [6.7, 3.3, 5.7, 2.1],\n",
              "       [7.2, 3.2, 6. , 1.8],\n",
              "       [6.2, 2.8, 4.8, 1.8],\n",
              "       [6.1, 3. , 4.9, 1.8],\n",
              "       [6.4, 2.8, 5.6, 2.1],\n",
              "       [7.2, 3. , 5.8, 1.6],\n",
              "       [7.4, 2.8, 6.1, 1.9],\n",
              "       [7.9, 3.8, 6.4, 2. ],\n",
              "       [6.4, 2.8, 5.6, 2.2],\n",
              "       [6.3, 2.8, 5.1, 1.5],\n",
              "       [6.1, 2.6, 5.6, 1.4],\n",
              "       [7.7, 3. , 6.1, 2.3],\n",
              "       [6.3, 3.4, 5.6, 2.4],\n",
              "       [6.4, 3.1, 5.5, 1.8],\n",
              "       [6. , 3. , 4.8, 1.8],\n",
              "       [6.9, 3.1, 5.4, 2.1],\n",
              "       [6.7, 3.1, 5.6, 2.4],\n",
              "       [6.9, 3.1, 5.1, 2.3],\n",
              "       [5.8, 2.7, 5.1, 1.9],\n",
              "       [6.8, 3.2, 5.9, 2.3],\n",
              "       [6.7, 3.3, 5.7, 2.5],\n",
              "       [6.7, 3. , 5.2, 2.3],\n",
              "       [6.3, 2.5, 5. , 1.9],\n",
              "       [6.5, 3. , 5.2, 2. ],\n",
              "       [6.2, 3.4, 5.4, 2.3],\n",
              "       [5.9, 3. , 5.1, 1.8]])"
            ]
          },
          "metadata": {
            "tags": []
          },
          "execution_count": 54
        }
      ]
    },
    {
      "cell_type": "code",
      "metadata": {
        "id": "_iSDwKC7vzMy",
        "colab_type": "code",
        "colab": {},
        "outputId": "3e93c7f6-02f9-46a4-a1dd-40e513ba4410"
      },
      "source": [
        "iris.target"
      ],
      "execution_count": 0,
      "outputs": [
        {
          "output_type": "execute_result",
          "data": {
            "text/plain": [
              "array([0, 0, 0, 0, 0, 0, 0, 0, 0, 0, 0, 0, 0, 0, 0, 0, 0, 0, 0, 0, 0, 0,\n",
              "       0, 0, 0, 0, 0, 0, 0, 0, 0, 0, 0, 0, 0, 0, 0, 0, 0, 0, 0, 0, 0, 0,\n",
              "       0, 0, 0, 0, 0, 0, 1, 1, 1, 1, 1, 1, 1, 1, 1, 1, 1, 1, 1, 1, 1, 1,\n",
              "       1, 1, 1, 1, 1, 1, 1, 1, 1, 1, 1, 1, 1, 1, 1, 1, 1, 1, 1, 1, 1, 1,\n",
              "       1, 1, 1, 1, 1, 1, 1, 1, 1, 1, 1, 1, 2, 2, 2, 2, 2, 2, 2, 2, 2, 2,\n",
              "       2, 2, 2, 2, 2, 2, 2, 2, 2, 2, 2, 2, 2, 2, 2, 2, 2, 2, 2, 2, 2, 2,\n",
              "       2, 2, 2, 2, 2, 2, 2, 2, 2, 2, 2, 2, 2, 2, 2, 2, 2, 2])"
            ]
          },
          "metadata": {
            "tags": []
          },
          "execution_count": 55
        }
      ]
    },
    {
      "cell_type": "code",
      "metadata": {
        "id": "j0P0GfkHvzM2",
        "colab_type": "code",
        "colab": {}
      },
      "source": [
        "target = to_categorical(iris.target)\n",
        "data = iris.data"
      ],
      "execution_count": 0,
      "outputs": []
    },
    {
      "cell_type": "code",
      "metadata": {
        "id": "l1UklS8_vzNA",
        "colab_type": "code",
        "colab": {}
      },
      "source": [
        "x_train, x_test, y_train, y_test = train_test_split(data, target, test_size=0.3)"
      ],
      "execution_count": 0,
      "outputs": []
    },
    {
      "cell_type": "code",
      "metadata": {
        "id": "fsHOXDuGvzNE",
        "colab_type": "code",
        "colab": {}
      },
      "source": [
        "model = Sequential()\n",
        "model.add(Dense(10, input_dim=4, activation='relu'))\n",
        "model.add(Dense(3, activation='softmax'))\n",
        "model.compile(loss='categorical_crossentropy', optimizer='adam', metrics=['accuracy'])"
      ],
      "execution_count": 0,
      "outputs": []
    },
    {
      "cell_type": "code",
      "metadata": {
        "id": "XnrkWRhnvzNJ",
        "colab_type": "code",
        "colab": {},
        "outputId": "395078ac-56f3-4d07-d24b-54244a1afd70"
      },
      "source": [
        "model.fit(x_train, y_train, epochs=100)"
      ],
      "execution_count": 0,
      "outputs": [
        {
          "output_type": "stream",
          "text": [
            "Train on 105 samples\n",
            "Epoch 1/100\n",
            "105/105 [==============================] - 2s 20ms/sample - loss: 2.1544 - accuracy: 0.3619\n",
            "Epoch 2/100\n",
            "105/105 [==============================] - 0s 412us/sample - loss: 2.0586 - accuracy: 0.3619\n",
            "Epoch 3/100\n",
            "105/105 [==============================] - 0s 447us/sample - loss: 1.9760 - accuracy: 0.3619\n",
            "Epoch 4/100\n",
            "105/105 [==============================] - 0s 943us/sample - loss: 1.8996 - accuracy: 0.3619\n",
            "Epoch 5/100\n",
            "105/105 [==============================] - 0s 458us/sample - loss: 1.8326 - accuracy: 0.3619\n",
            "Epoch 6/100\n",
            "105/105 [==============================] - 0s 487us/sample - loss: 1.7748 - accuracy: 0.3619\n",
            "Epoch 7/100\n",
            "105/105 [==============================] - 0s 318us/sample - loss: 1.7190 - accuracy: 0.3619\n",
            "Epoch 8/100\n",
            "105/105 [==============================] - 0s 468us/sample - loss: 1.6696 - accuracy: 0.3619\n",
            "Epoch 9/100\n",
            "105/105 [==============================] - 0s 411us/sample - loss: 1.6281 - accuracy: 0.3619\n",
            "Epoch 10/100\n",
            "105/105 [==============================] - 0s 392us/sample - loss: 1.5852 - accuracy: 0.3619\n",
            "Epoch 11/100\n",
            "105/105 [==============================] - 0s 617us/sample - loss: 1.5499 - accuracy: 0.3619\n",
            "Epoch 12/100\n",
            "105/105 [==============================] - 0s 490us/sample - loss: 1.5113 - accuracy: 0.3619\n",
            "Epoch 13/100\n",
            "105/105 [==============================] - 0s 277us/sample - loss: 1.4813 - accuracy: 0.3619\n",
            "Epoch 14/100\n",
            "105/105 [==============================] - 0s 283us/sample - loss: 1.4507 - accuracy: 0.3619\n",
            "Epoch 15/100\n",
            "105/105 [==============================] - 0s 192us/sample - loss: 1.4241 - accuracy: 0.3619\n",
            "Epoch 16/100\n",
            "105/105 [==============================] - 0s 267us/sample - loss: 1.3984 - accuracy: 0.3619\n",
            "Epoch 17/100\n",
            "105/105 [==============================] - 0s 206us/sample - loss: 1.3727 - accuracy: 0.3810\n",
            "Epoch 18/100\n",
            "105/105 [==============================] - 0s 223us/sample - loss: 1.3500 - accuracy: 0.3810\n",
            "Epoch 19/100\n",
            "105/105 [==============================] - 0s 230us/sample - loss: 1.3285 - accuracy: 0.4000\n",
            "Epoch 20/100\n",
            "105/105 [==============================] - 0s 301us/sample - loss: 1.3060 - accuracy: 0.4381\n",
            "Epoch 21/100\n",
            "105/105 [==============================] - 0s 206us/sample - loss: 1.2864 - accuracy: 0.4476\n",
            "Epoch 22/100\n",
            "105/105 [==============================] - 0s 299us/sample - loss: 1.2689 - accuracy: 0.4286\n",
            "Epoch 23/100\n",
            "105/105 [==============================] - 0s 292us/sample - loss: 1.2489 - accuracy: 0.4286\n",
            "Epoch 24/100\n",
            "105/105 [==============================] - 0s 307us/sample - loss: 1.2299 - accuracy: 0.4476\n",
            "Epoch 25/100\n",
            "105/105 [==============================] - 0s 216us/sample - loss: 1.2124 - accuracy: 0.4571\n",
            "Epoch 26/100\n",
            "105/105 [==============================] - 0s 421us/sample - loss: 1.1945 - accuracy: 0.4571\n",
            "Epoch 27/100\n",
            "105/105 [==============================] - 0s 261us/sample - loss: 1.1765 - accuracy: 0.4571\n",
            "Epoch 28/100\n",
            "105/105 [==============================] - 0s 340us/sample - loss: 1.1603 - accuracy: 0.4571\n",
            "Epoch 29/100\n",
            "105/105 [==============================] - 0s 189us/sample - loss: 1.1425 - accuracy: 0.4571\n",
            "Epoch 30/100\n",
            "105/105 [==============================] - 0s 146us/sample - loss: 1.1262 - accuracy: 0.4762\n",
            "Epoch 31/100\n",
            "105/105 [==============================] - 0s 135us/sample - loss: 1.1101 - accuracy: 0.4952\n",
            "Epoch 32/100\n",
            "105/105 [==============================] - 0s 154us/sample - loss: 1.0941 - accuracy: 0.4952\n",
            "Epoch 33/100\n",
            "105/105 [==============================] - 0s 201us/sample - loss: 1.0787 - accuracy: 0.4857\n",
            "Epoch 34/100\n",
            "105/105 [==============================] - 0s 307us/sample - loss: 1.0634 - accuracy: 0.4762\n",
            "Epoch 35/100\n",
            "105/105 [==============================] - 0s 285us/sample - loss: 1.0465 - accuracy: 0.4667\n",
            "Epoch 36/100\n",
            "105/105 [==============================] - 0s 235us/sample - loss: 1.0299 - accuracy: 0.4667\n",
            "Epoch 37/100\n",
            "105/105 [==============================] - 0s 494us/sample - loss: 1.0143 - accuracy: 0.4286\n",
            "Epoch 38/100\n",
            "105/105 [==============================] - 0s 236us/sample - loss: 0.9973 - accuracy: 0.4095\n",
            "Epoch 39/100\n",
            "105/105 [==============================] - 0s 413us/sample - loss: 0.9821 - accuracy: 0.4286\n",
            "Epoch 40/100\n",
            "105/105 [==============================] - 0s 247us/sample - loss: 0.9635 - accuracy: 0.4286\n",
            "Epoch 41/100\n",
            "105/105 [==============================] - 0s 153us/sample - loss: 0.9468 - accuracy: 0.4095\n",
            "Epoch 42/100\n",
            "105/105 [==============================] - 0s 150us/sample - loss: 0.9314 - accuracy: 0.4000\n",
            "Epoch 43/100\n",
            "105/105 [==============================] - 0s 147us/sample - loss: 0.9171 - accuracy: 0.4095\n",
            "Epoch 44/100\n",
            "105/105 [==============================] - 0s 213us/sample - loss: 0.9029 - accuracy: 0.4381\n",
            "Epoch 45/100\n",
            "105/105 [==============================] - 0s 294us/sample - loss: 0.8891 - accuracy: 0.4857\n",
            "Epoch 46/100\n",
            "105/105 [==============================] - 0s 365us/sample - loss: 0.8766 - accuracy: 0.5619\n",
            "Epoch 47/100\n",
            "105/105 [==============================] - 0s 237us/sample - loss: 0.8637 - accuracy: 0.5905\n",
            "Epoch 48/100\n",
            "105/105 [==============================] - 0s 336us/sample - loss: 0.8510 - accuracy: 0.6190\n",
            "Epoch 49/100\n",
            "105/105 [==============================] - 0s 226us/sample - loss: 0.8389 - accuracy: 0.6571\n",
            "Epoch 50/100\n",
            "105/105 [==============================] - 0s 462us/sample - loss: 0.8272 - accuracy: 0.6762\n",
            "Epoch 51/100\n",
            "105/105 [==============================] - 0s 323us/sample - loss: 0.8156 - accuracy: 0.7143\n",
            "Epoch 52/100\n",
            "105/105 [==============================] - 0s 279us/sample - loss: 0.8040 - accuracy: 0.7333\n",
            "Epoch 53/100\n",
            "105/105 [==============================] - 0s 264us/sample - loss: 0.7938 - accuracy: 0.7333\n",
            "Epoch 54/100\n",
            "105/105 [==============================] - 0s 176us/sample - loss: 0.7836 - accuracy: 0.7524\n",
            "Epoch 55/100\n",
            "105/105 [==============================] - 0s 240us/sample - loss: 0.7744 - accuracy: 0.7619\n",
            "Epoch 56/100\n",
            "105/105 [==============================] - 0s 203us/sample - loss: 0.7652 - accuracy: 0.7714\n",
            "Epoch 57/100\n",
            "105/105 [==============================] - 0s 231us/sample - loss: 0.7567 - accuracy: 0.7619\n",
            "Epoch 58/100\n",
            "105/105 [==============================] - 0s 292us/sample - loss: 0.7486 - accuracy: 0.7619\n",
            "Epoch 59/100\n",
            "105/105 [==============================] - 0s 258us/sample - loss: 0.7409 - accuracy: 0.7619\n",
            "Epoch 60/100\n",
            "105/105 [==============================] - 0s 178us/sample - loss: 0.7337 - accuracy: 0.7619\n",
            "Epoch 61/100\n",
            "105/105 [==============================] - 0s 280us/sample - loss: 0.7265 - accuracy: 0.7714\n",
            "Epoch 62/100\n",
            "105/105 [==============================] - 0s 303us/sample - loss: 0.7195 - accuracy: 0.7810\n",
            "Epoch 63/100\n",
            "105/105 [==============================] - 0s 171us/sample - loss: 0.7117 - accuracy: 0.8000\n",
            "Epoch 64/100\n",
            "105/105 [==============================] - 0s 276us/sample - loss: 0.7048 - accuracy: 0.8095\n",
            "Epoch 65/100\n",
            "105/105 [==============================] - 0s 259us/sample - loss: 0.6991 - accuracy: 0.8190\n",
            "Epoch 66/100\n",
            "105/105 [==============================] - 0s 388us/sample - loss: 0.6922 - accuracy: 0.8286\n",
            "Epoch 67/100\n",
            "105/105 [==============================] - 0s 187us/sample - loss: 0.6854 - accuracy: 0.8381\n",
            "Epoch 68/100\n",
            "105/105 [==============================] - 0s 174us/sample - loss: 0.6790 - accuracy: 0.8381\n",
            "Epoch 69/100\n",
            "105/105 [==============================] - 0s 174us/sample - loss: 0.6721 - accuracy: 0.8381\n",
            "Epoch 70/100\n",
            "105/105 [==============================] - 0s 190us/sample - loss: 0.6659 - accuracy: 0.8381\n",
            "Epoch 71/100\n",
            "105/105 [==============================] - 0s 326us/sample - loss: 0.6597 - accuracy: 0.8286\n",
            "Epoch 72/100\n",
            "105/105 [==============================] - 0s 191us/sample - loss: 0.6528 - accuracy: 0.8286\n",
            "Epoch 73/100\n",
            "105/105 [==============================] - 0s 189us/sample - loss: 0.6463 - accuracy: 0.8381\n",
            "Epoch 74/100\n",
            "105/105 [==============================] - 0s 246us/sample - loss: 0.6396 - accuracy: 0.8381\n",
            "Epoch 75/100\n",
            "105/105 [==============================] - 0s 366us/sample - loss: 0.6348 - accuracy: 0.8476\n",
            "Epoch 76/100\n",
            "105/105 [==============================] - 0s 254us/sample - loss: 0.6288 - accuracy: 0.8571\n",
            "Epoch 77/100\n",
            "105/105 [==============================] - 0s 222us/sample - loss: 0.6225 - accuracy: 0.8667\n",
            "Epoch 78/100\n"
          ],
          "name": "stdout"
        },
        {
          "output_type": "stream",
          "text": [
            "105/105 [==============================] - 0s 140us/sample - loss: 0.6152 - accuracy: 0.8571\n",
            "Epoch 79/100\n",
            "105/105 [==============================] - 0s 164us/sample - loss: 0.6088 - accuracy: 0.8381\n",
            "Epoch 80/100\n",
            "105/105 [==============================] - 0s 186us/sample - loss: 0.6056 - accuracy: 0.8095\n",
            "Epoch 81/100\n",
            "105/105 [==============================] - 0s 224us/sample - loss: 0.6027 - accuracy: 0.8000\n",
            "Epoch 82/100\n",
            "105/105 [==============================] - 0s 145us/sample - loss: 0.5960 - accuracy: 0.8000\n",
            "Epoch 83/100\n",
            "105/105 [==============================] - 0s 183us/sample - loss: 0.5884 - accuracy: 0.8095\n",
            "Epoch 84/100\n",
            "105/105 [==============================] - 0s 257us/sample - loss: 0.5808 - accuracy: 0.8476\n",
            "Epoch 85/100\n",
            "105/105 [==============================] - 0s 212us/sample - loss: 0.5744 - accuracy: 0.8762\n",
            "Epoch 86/100\n",
            "105/105 [==============================] - 0s 240us/sample - loss: 0.5728 - accuracy: 0.8857\n",
            "Epoch 87/100\n",
            "105/105 [==============================] - 0s 268us/sample - loss: 0.5690 - accuracy: 0.9143\n",
            "Epoch 88/100\n",
            "105/105 [==============================] - 0s 170us/sample - loss: 0.5633 - accuracy: 0.9238\n",
            "Epoch 89/100\n",
            "105/105 [==============================] - 0s 184us/sample - loss: 0.5577 - accuracy: 0.9238\n",
            "Epoch 90/100\n",
            "105/105 [==============================] - 0s 219us/sample - loss: 0.5517 - accuracy: 0.8762\n",
            "Epoch 91/100\n",
            "105/105 [==============================] - 0s 264us/sample - loss: 0.5447 - accuracy: 0.8667\n",
            "Epoch 92/100\n",
            "105/105 [==============================] - 0s 271us/sample - loss: 0.5403 - accuracy: 0.8571\n",
            "Epoch 93/100\n",
            "105/105 [==============================] - 0s 145us/sample - loss: 0.5359 - accuracy: 0.8476\n",
            "Epoch 94/100\n",
            "105/105 [==============================] - 0s 199us/sample - loss: 0.5304 - accuracy: 0.8571\n",
            "Epoch 95/100\n",
            "105/105 [==============================] - 0s 178us/sample - loss: 0.5253 - accuracy: 0.8762\n",
            "Epoch 96/100\n",
            "105/105 [==============================] - 0s 217us/sample - loss: 0.5224 - accuracy: 0.8857\n",
            "Epoch 97/100\n",
            "105/105 [==============================] - 0s 191us/sample - loss: 0.5171 - accuracy: 0.8857\n",
            "Epoch 98/100\n",
            "105/105 [==============================] - 0s 227us/sample - loss: 0.5123 - accuracy: 0.8857\n",
            "Epoch 99/100\n",
            "105/105 [==============================] - 0s 226us/sample - loss: 0.5082 - accuracy: 0.8952\n",
            "Epoch 100/100\n",
            "105/105 [==============================] - 0s 171us/sample - loss: 0.5041 - accuracy: 0.9048\n"
          ],
          "name": "stdout"
        },
        {
          "output_type": "execute_result",
          "data": {
            "text/plain": [
              "<tensorflow.python.keras.callbacks.History at 0x1a397a5f50>"
            ]
          },
          "metadata": {
            "tags": []
          },
          "execution_count": 59
        }
      ]
    },
    {
      "cell_type": "code",
      "metadata": {
        "id": "guRMkO3KvzNO",
        "colab_type": "code",
        "colab": {}
      },
      "source": [
        "model = Sequential()\n",
        "model.add(Dense(10, input_dim=4, activation='relu'))\n",
        "model.add(Dense(10, activation='relu'))\n",
        "model.add(Dense(5, activation='relu'))\n",
        "model.add(Dense(3, activation='softmax'))\n",
        "model.compile(loss='categorical_crossentropy', optimizer='adam', metrics=['accuracy'])"
      ],
      "execution_count": 0,
      "outputs": []
    },
    {
      "cell_type": "code",
      "metadata": {
        "id": "3NxUGlYXvzNS",
        "colab_type": "code",
        "colab": {},
        "outputId": "efedb29b-76a3-45a3-ad14-d98b015788fd"
      },
      "source": [
        "model.summary()"
      ],
      "execution_count": 0,
      "outputs": [
        {
          "output_type": "stream",
          "text": [
            "Model: \"sequential_1\"\n",
            "_________________________________________________________________\n",
            "Layer (type)                 Output Shape              Param #   \n",
            "=================================================================\n",
            "dense_2 (Dense)              (None, 10)                50        \n",
            "_________________________________________________________________\n",
            "dense_3 (Dense)              (None, 10)                110       \n",
            "_________________________________________________________________\n",
            "dense_4 (Dense)              (None, 5)                 55        \n",
            "_________________________________________________________________\n",
            "dense_5 (Dense)              (None, 3)                 18        \n",
            "=================================================================\n",
            "Total params: 233\n",
            "Trainable params: 233\n",
            "Non-trainable params: 0\n",
            "_________________________________________________________________\n"
          ],
          "name": "stdout"
        }
      ]
    },
    {
      "cell_type": "code",
      "metadata": {
        "id": "HTwgSh-RvzNX",
        "colab_type": "code",
        "colab": {},
        "outputId": "b8ea64df-497b-41ec-a1ce-a80506d2ec9d"
      },
      "source": [
        "model.layers"
      ],
      "execution_count": 0,
      "outputs": [
        {
          "output_type": "execute_result",
          "data": {
            "text/plain": [
              "[<tensorflow.python.keras.layers.core.Dense at 0x1a39a2d790>,\n",
              " <tensorflow.python.keras.layers.core.Dense at 0x1a39a4f450>,\n",
              " <tensorflow.python.keras.layers.core.Dense at 0x1a39a69390>,\n",
              " <tensorflow.python.keras.layers.core.Dense at 0x1a39aca9d0>]"
            ]
          },
          "metadata": {
            "tags": []
          },
          "execution_count": 62
        }
      ]
    },
    {
      "cell_type": "code",
      "metadata": {
        "id": "FkN-wA4BvzNb",
        "colab_type": "code",
        "colab": {},
        "outputId": "2138b726-dc59-47ee-9476-47f07c082add"
      },
      "source": [
        "hidden1 = model.layers[1]\n",
        "hidden1.name"
      ],
      "execution_count": 0,
      "outputs": [
        {
          "output_type": "execute_result",
          "data": {
            "text/plain": [
              "'dense_3'"
            ]
          },
          "metadata": {
            "tags": []
          },
          "execution_count": 63
        }
      ]
    },
    {
      "cell_type": "code",
      "metadata": {
        "id": "8ngIQvNmvzNf",
        "colab_type": "code",
        "colab": {}
      },
      "source": [
        "weights, biases = hidden1.get_weights()"
      ],
      "execution_count": 0,
      "outputs": []
    },
    {
      "cell_type": "code",
      "metadata": {
        "id": "_611eWjfvzNm",
        "colab_type": "code",
        "colab": {},
        "outputId": "9e2fb036-be8f-4c7e-93ad-9cd90837ea21"
      },
      "source": [
        "weights"
      ],
      "execution_count": 0,
      "outputs": [
        {
          "output_type": "execute_result",
          "data": {
            "text/plain": [
              "array([[-0.21489462,  0.31943035,  0.07128525,  0.45668876,  0.49853456,\n",
              "        -0.4890312 , -0.4015081 ,  0.11412466, -0.1837104 , -0.50379485],\n",
              "       [-0.2585831 ,  0.46431303,  0.0442363 ,  0.00500476,  0.22300446,\n",
              "         0.2275539 ,  0.26307285, -0.27367663, -0.1847927 , -0.24868315],\n",
              "       [ 0.24062699,  0.54625213, -0.5468803 , -0.44203192, -0.22304809,\n",
              "        -0.01311773,  0.5285734 ,  0.24907142,  0.4061793 , -0.50941676],\n",
              "       [-0.2733144 , -0.26211733,  0.2522908 , -0.09275848, -0.05687582,\n",
              "         0.5268426 , -0.1897977 ,  0.12318045, -0.3219247 , -0.39115253],\n",
              "       [ 0.11006296, -0.01222557,  0.20602018,  0.22751158,  0.41934133,\n",
              "         0.32143712, -0.09351444,  0.41272283,  0.15591073,  0.44317353],\n",
              "       [ 0.17911607, -0.0935719 , -0.5383384 ,  0.36629212, -0.25065306,\n",
              "         0.30826372, -0.16308022, -0.1661118 , -0.12873656, -0.08226696],\n",
              "       [-0.05500126, -0.18095303,  0.01815802,  0.21262681,  0.26259804,\n",
              "         0.19846481, -0.25914842, -0.16795334, -0.49338198, -0.15163189],\n",
              "       [ 0.3480919 , -0.41941643,  0.01185131, -0.44719666, -0.38759822,\n",
              "        -0.328476  ,  0.5053091 ,  0.4592507 ,  0.29070014,  0.01274401],\n",
              "       [-0.46015248,  0.36506522, -0.27878234, -0.2393924 , -0.22680771,\n",
              "        -0.48702222,  0.11567235, -0.17607445, -0.10412151, -0.10652027],\n",
              "       [-0.39250243,  0.03438324,  0.33486903,  0.150127  ,  0.30345613,\n",
              "        -0.4078443 , -0.25106427, -0.46180937,  0.03919435, -0.433699  ]],\n",
              "      dtype=float32)"
            ]
          },
          "metadata": {
            "tags": []
          },
          "execution_count": 65
        }
      ]
    },
    {
      "cell_type": "code",
      "metadata": {
        "id": "sQsSSAZJvzNq",
        "colab_type": "code",
        "colab": {},
        "outputId": "b7f5fb29-22c2-45e4-857e-40e0b6cb64b5"
      },
      "source": [
        "weights.shape"
      ],
      "execution_count": 0,
      "outputs": [
        {
          "output_type": "execute_result",
          "data": {
            "text/plain": [
              "(10, 10)"
            ]
          },
          "metadata": {
            "tags": []
          },
          "execution_count": 66
        }
      ]
    },
    {
      "cell_type": "code",
      "metadata": {
        "id": "-M8CoBLRvzNv",
        "colab_type": "code",
        "colab": {},
        "outputId": "5247f0f7-7fd6-4a46-8a15-3b04d76a8e37"
      },
      "source": [
        "history = model.fit(x_train, y_train, epochs=100)"
      ],
      "execution_count": 0,
      "outputs": [
        {
          "output_type": "stream",
          "text": [
            "Train on 105 samples\n",
            "Epoch 1/100\n",
            "105/105 [==============================] - 2s 21ms/sample - loss: 0.9853 - accuracy: 0.6952\n",
            "Epoch 2/100\n",
            "105/105 [==============================] - 0s 176us/sample - loss: 0.9422 - accuracy: 0.7048\n",
            "Epoch 3/100\n",
            "105/105 [==============================] - 0s 330us/sample - loss: 0.9011 - accuracy: 0.7048\n",
            "Epoch 4/100\n",
            "105/105 [==============================] - 0s 230us/sample - loss: 0.8624 - accuracy: 0.7048\n",
            "Epoch 5/100\n",
            "105/105 [==============================] - 0s 439us/sample - loss: 0.8252 - accuracy: 0.7048\n",
            "Epoch 6/100\n",
            "105/105 [==============================] - 0s 257us/sample - loss: 0.7913 - accuracy: 0.7048\n",
            "Epoch 7/100\n",
            "105/105 [==============================] - 0s 264us/sample - loss: 0.7625 - accuracy: 0.7048\n",
            "Epoch 8/100\n",
            "105/105 [==============================] - 0s 314us/sample - loss: 0.7371 - accuracy: 0.7048\n",
            "Epoch 9/100\n",
            "105/105 [==============================] - 0s 392us/sample - loss: 0.7151 - accuracy: 0.7048\n",
            "Epoch 10/100\n",
            "105/105 [==============================] - 0s 215us/sample - loss: 0.6950 - accuracy: 0.7048\n",
            "Epoch 11/100\n",
            "105/105 [==============================] - ETA: 0s - loss: 0.6754 - accuracy: 0.71 - 0s 308us/sample - loss: 0.6777 - accuracy: 0.7048\n",
            "Epoch 12/100\n",
            "105/105 [==============================] - 0s 279us/sample - loss: 0.6622 - accuracy: 0.7048\n",
            "Epoch 13/100\n",
            "105/105 [==============================] - 0s 229us/sample - loss: 0.6468 - accuracy: 0.7048\n",
            "Epoch 14/100\n",
            "105/105 [==============================] - 0s 410us/sample - loss: 0.6329 - accuracy: 0.7048\n",
            "Epoch 15/100\n",
            "105/105 [==============================] - ETA: 0s - loss: 0.5889 - accuracy: 0.75 - 0s 239us/sample - loss: 0.6196 - accuracy: 0.7048\n",
            "Epoch 16/100\n",
            "105/105 [==============================] - 0s 364us/sample - loss: 0.6074 - accuracy: 0.7048\n",
            "Epoch 17/100\n",
            "105/105 [==============================] - 0s 270us/sample - loss: 0.5962 - accuracy: 0.7048\n",
            "Epoch 18/100\n",
            "105/105 [==============================] - 0s 272us/sample - loss: 0.5854 - accuracy: 0.7048\n",
            "Epoch 19/100\n",
            "105/105 [==============================] - 0s 231us/sample - loss: 0.5750 - accuracy: 0.7048\n",
            "Epoch 20/100\n",
            "105/105 [==============================] - 0s 370us/sample - loss: 0.5654 - accuracy: 0.7048\n",
            "Epoch 21/100\n",
            "105/105 [==============================] - 0s 297us/sample - loss: 0.5565 - accuracy: 0.7048\n",
            "Epoch 22/100\n",
            "105/105 [==============================] - 0s 323us/sample - loss: 0.5482 - accuracy: 0.7048\n",
            "Epoch 23/100\n",
            "105/105 [==============================] - 0s 576us/sample - loss: 0.5404 - accuracy: 0.7048\n",
            "Epoch 24/100\n",
            "105/105 [==============================] - 0s 212us/sample - loss: 0.5329 - accuracy: 0.7048\n",
            "Epoch 25/100\n",
            "105/105 [==============================] - 0s 188us/sample - loss: 0.5262 - accuracy: 0.7048\n",
            "Epoch 26/100\n",
            "105/105 [==============================] - 0s 301us/sample - loss: 0.5197 - accuracy: 0.7048\n",
            "Epoch 27/100\n",
            "105/105 [==============================] - 0s 243us/sample - loss: 0.5140 - accuracy: 0.7048\n",
            "Epoch 28/100\n",
            "105/105 [==============================] - 0s 322us/sample - loss: 0.5081 - accuracy: 0.7048\n",
            "Epoch 29/100\n",
            "105/105 [==============================] - 0s 261us/sample - loss: 0.5024 - accuracy: 0.7048\n",
            "Epoch 30/100\n",
            "105/105 [==============================] - 0s 231us/sample - loss: 0.4976 - accuracy: 0.7048\n",
            "Epoch 31/100\n",
            "105/105 [==============================] - 0s 406us/sample - loss: 0.4929 - accuracy: 0.7048\n",
            "Epoch 32/100\n",
            "105/105 [==============================] - 0s 413us/sample - loss: 0.4886 - accuracy: 0.7048\n",
            "Epoch 33/100\n",
            "105/105 [==============================] - 0s 227us/sample - loss: 0.4840 - accuracy: 0.7048\n",
            "Epoch 34/100\n",
            "105/105 [==============================] - 0s 205us/sample - loss: 0.4799 - accuracy: 0.7048\n",
            "Epoch 35/100\n",
            "105/105 [==============================] - 0s 244us/sample - loss: 0.4765 - accuracy: 0.7048\n",
            "Epoch 36/100\n",
            "105/105 [==============================] - 0s 293us/sample - loss: 0.4725 - accuracy: 0.7048\n",
            "Epoch 37/100\n",
            "105/105 [==============================] - 0s 210us/sample - loss: 0.4692 - accuracy: 0.7048\n",
            "Epoch 38/100\n",
            "105/105 [==============================] - 0s 358us/sample - loss: 0.4660 - accuracy: 0.7048\n",
            "Epoch 39/100\n",
            "105/105 [==============================] - 0s 320us/sample - loss: 0.4629 - accuracy: 0.7048\n",
            "Epoch 40/100\n",
            "105/105 [==============================] - 0s 262us/sample - loss: 0.4604 - accuracy: 0.7048\n",
            "Epoch 41/100\n",
            "105/105 [==============================] - 0s 252us/sample - loss: 0.4576 - accuracy: 0.7048\n",
            "Epoch 42/100\n",
            "105/105 [==============================] - 0s 226us/sample - loss: 0.4551 - accuracy: 0.7048\n",
            "Epoch 43/100\n",
            "105/105 [==============================] - 0s 238us/sample - loss: 0.4527 - accuracy: 0.7143\n",
            "Epoch 44/100\n",
            "105/105 [==============================] - 0s 189us/sample - loss: 0.4504 - accuracy: 0.7143\n",
            "Epoch 45/100\n",
            "105/105 [==============================] - 0s 318us/sample - loss: 0.4481 - accuracy: 0.7143\n",
            "Epoch 46/100\n",
            "105/105 [==============================] - 0s 184us/sample - loss: 0.4457 - accuracy: 0.7143\n",
            "Epoch 47/100\n",
            "105/105 [==============================] - 0s 396us/sample - loss: 0.4427 - accuracy: 0.7143\n",
            "Epoch 48/100\n",
            "105/105 [==============================] - 0s 234us/sample - loss: 0.4387 - accuracy: 0.7143\n",
            "Epoch 49/100\n",
            "105/105 [==============================] - 0s 508us/sample - loss: 0.4344 - accuracy: 0.7048\n",
            "Epoch 50/100\n",
            "105/105 [==============================] - 0s 226us/sample - loss: 0.4298 - accuracy: 0.7143\n",
            "Epoch 51/100\n",
            "105/105 [==============================] - 0s 228us/sample - loss: 0.4255 - accuracy: 0.7333\n",
            "Epoch 52/100\n",
            "105/105 [==============================] - 0s 414us/sample - loss: 0.4196 - accuracy: 0.7714\n",
            "Epoch 53/100\n",
            "105/105 [==============================] - 0s 201us/sample - loss: 0.4127 - accuracy: 0.7905\n",
            "Epoch 54/100\n",
            "105/105 [==============================] - ETA: 0s - loss: 0.4100 - accuracy: 0.81 - 0s 435us/sample - loss: 0.4053 - accuracy: 0.8190\n",
            "Epoch 55/100\n",
            "105/105 [==============================] - 0s 201us/sample - loss: 0.3976 - accuracy: 0.8476\n",
            "Epoch 56/100\n",
            "105/105 [==============================] - 0s 169us/sample - loss: 0.3903 - accuracy: 0.8286\n",
            "Epoch 57/100\n",
            "105/105 [==============================] - 0s 192us/sample - loss: 0.3816 - accuracy: 0.8667\n",
            "Epoch 58/100\n",
            "105/105 [==============================] - 0s 273us/sample - loss: 0.3741 - accuracy: 0.8857\n",
            "Epoch 59/100\n",
            "105/105 [==============================] - 0s 388us/sample - loss: 0.3654 - accuracy: 0.8857\n",
            "Epoch 60/100\n",
            "105/105 [==============================] - 0s 366us/sample - loss: 0.3592 - accuracy: 0.8857\n",
            "Epoch 61/100\n",
            "105/105 [==============================] - 0s 208us/sample - loss: 0.3518 - accuracy: 0.8857\n",
            "Epoch 62/100\n",
            "105/105 [==============================] - 0s 416us/sample - loss: 0.3438 - accuracy: 0.9048\n",
            "Epoch 63/100\n",
            "105/105 [==============================] - 0s 181us/sample - loss: 0.3361 - accuracy: 0.9143\n",
            "Epoch 64/100\n",
            "105/105 [==============================] - 0s 173us/sample - loss: 0.3292 - accuracy: 0.9143\n",
            "Epoch 65/100\n",
            "105/105 [==============================] - 0s 249us/sample - loss: 0.3221 - accuracy: 0.9238\n",
            "Epoch 66/100\n",
            "105/105 [==============================] - 0s 193us/sample - loss: 0.3157 - accuracy: 0.9333\n",
            "Epoch 67/100\n",
            "105/105 [==============================] - 0s 230us/sample - loss: 0.3095 - accuracy: 0.9524\n",
            "Epoch 68/100\n",
            "105/105 [==============================] - 0s 173us/sample - loss: 0.3037 - accuracy: 0.9619\n",
            "Epoch 69/100\n",
            "105/105 [==============================] - 0s 363us/sample - loss: 0.2988 - accuracy: 0.9619\n",
            "Epoch 70/100\n",
            "105/105 [==============================] - 0s 259us/sample - loss: 0.2923 - accuracy: 0.9714\n",
            "Epoch 71/100\n",
            "105/105 [==============================] - 0s 247us/sample - loss: 0.2869 - accuracy: 0.9619\n",
            "Epoch 72/100\n",
            "105/105 [==============================] - 0s 339us/sample - loss: 0.2813 - accuracy: 0.9619\n",
            "Epoch 73/100\n",
            "105/105 [==============================] - 0s 266us/sample - loss: 0.2765 - accuracy: 0.9524\n",
            "Epoch 74/100\n",
            "105/105 [==============================] - 0s 284us/sample - loss: 0.2705 - accuracy: 0.9619\n",
            "Epoch 75/100\n",
            "105/105 [==============================] - 0s 295us/sample - loss: 0.2650 - accuracy: 0.9714\n",
            "Epoch 76/100\n",
            "105/105 [==============================] - 0s 770us/sample - loss: 0.2610 - accuracy: 0.9714\n"
          ],
          "name": "stdout"
        },
        {
          "output_type": "stream",
          "text": [
            "Epoch 77/100\n",
            "105/105 [==============================] - 0s 256us/sample - loss: 0.2554 - accuracy: 0.9714\n",
            "Epoch 78/100\n",
            "105/105 [==============================] - 0s 279us/sample - loss: 0.2500 - accuracy: 0.9714\n",
            "Epoch 79/100\n",
            "105/105 [==============================] - 0s 213us/sample - loss: 0.2451 - accuracy: 0.9714\n",
            "Epoch 80/100\n",
            "105/105 [==============================] - 0s 184us/sample - loss: 0.2399 - accuracy: 0.9714\n",
            "Epoch 81/100\n",
            "105/105 [==============================] - 0s 248us/sample - loss: 0.2350 - accuracy: 0.9714\n",
            "Epoch 82/100\n",
            "105/105 [==============================] - 0s 351us/sample - loss: 0.2316 - accuracy: 0.9714\n",
            "Epoch 83/100\n",
            "105/105 [==============================] - 0s 387us/sample - loss: 0.2261 - accuracy: 0.9714\n",
            "Epoch 84/100\n",
            "105/105 [==============================] - 0s 230us/sample - loss: 0.2216 - accuracy: 0.9714\n",
            "Epoch 85/100\n",
            "105/105 [==============================] - 0s 253us/sample - loss: 0.2174 - accuracy: 0.9714\n",
            "Epoch 86/100\n",
            "105/105 [==============================] - 0s 195us/sample - loss: 0.2177 - accuracy: 0.9714\n",
            "Epoch 87/100\n",
            "105/105 [==============================] - 0s 192us/sample - loss: 0.2114 - accuracy: 0.9714\n",
            "Epoch 88/100\n",
            "105/105 [==============================] - 0s 201us/sample - loss: 0.2078 - accuracy: 0.9714\n",
            "Epoch 89/100\n",
            "105/105 [==============================] - 0s 358us/sample - loss: 0.2048 - accuracy: 0.9714\n",
            "Epoch 90/100\n",
            "105/105 [==============================] - 0s 329us/sample - loss: 0.2012 - accuracy: 0.9714\n",
            "Epoch 91/100\n",
            "105/105 [==============================] - 0s 206us/sample - loss: 0.1960 - accuracy: 0.9810\n",
            "Epoch 92/100\n",
            "105/105 [==============================] - 0s 287us/sample - loss: 0.1910 - accuracy: 0.9714\n",
            "Epoch 93/100\n",
            "105/105 [==============================] - 0s 233us/sample - loss: 0.1903 - accuracy: 0.9714\n",
            "Epoch 94/100\n",
            "105/105 [==============================] - 0s 204us/sample - loss: 0.1864 - accuracy: 0.9714\n",
            "Epoch 95/100\n",
            "105/105 [==============================] - 0s 189us/sample - loss: 0.1826 - accuracy: 0.9714\n",
            "Epoch 96/100\n",
            "105/105 [==============================] - 0s 166us/sample - loss: 0.1841 - accuracy: 0.9810\n",
            "Epoch 97/100\n",
            "105/105 [==============================] - 0s 368us/sample - loss: 0.1810 - accuracy: 0.9810\n",
            "Epoch 98/100\n",
            "105/105 [==============================] - 0s 241us/sample - loss: 0.1744 - accuracy: 0.9714\n",
            "Epoch 99/100\n",
            "105/105 [==============================] - 0s 331us/sample - loss: 0.1727 - accuracy: 0.9714\n",
            "Epoch 100/100\n",
            "105/105 [==============================] - 0s 252us/sample - loss: 0.1746 - accuracy: 0.9714\n"
          ],
          "name": "stdout"
        }
      ]
    },
    {
      "cell_type": "code",
      "metadata": {
        "id": "bfMkQQLgvzNz",
        "colab_type": "code",
        "colab": {},
        "outputId": "50040018-920b-4dea-ce63-a020fcd28c7d"
      },
      "source": [
        "print(history.epoch)"
      ],
      "execution_count": 0,
      "outputs": [
        {
          "output_type": "stream",
          "text": [
            "[0, 1, 2, 3, 4, 5, 6, 7, 8, 9, 10, 11, 12, 13, 14, 15, 16, 17, 18, 19, 20, 21, 22, 23, 24, 25, 26, 27, 28, 29, 30, 31, 32, 33, 34, 35, 36, 37, 38, 39, 40, 41, 42, 43, 44, 45, 46, 47, 48, 49, 50, 51, 52, 53, 54, 55, 56, 57, 58, 59, 60, 61, 62, 63, 64, 65, 66, 67, 68, 69, 70, 71, 72, 73, 74, 75, 76, 77, 78, 79, 80, 81, 82, 83, 84, 85, 86, 87, 88, 89, 90, 91, 92, 93, 94, 95, 96, 97, 98, 99]\n"
          ],
          "name": "stdout"
        }
      ]
    },
    {
      "cell_type": "code",
      "metadata": {
        "id": "48s9vS39vzN4",
        "colab_type": "code",
        "colab": {},
        "outputId": "6ca043ab-6b8c-4438-f9e7-04e86c5818c1"
      },
      "source": [
        "print(history.history.keys())"
      ],
      "execution_count": 0,
      "outputs": [
        {
          "output_type": "stream",
          "text": [
            "dict_keys(['loss', 'accuracy'])\n"
          ],
          "name": "stdout"
        }
      ]
    },
    {
      "cell_type": "code",
      "metadata": {
        "id": "EpmNAcLSvzN8",
        "colab_type": "code",
        "colab": {},
        "outputId": "de666d7c-ae63-4b23-cf30-0f11a10893e9"
      },
      "source": [
        "#play with history :)\n",
        "history.history"
      ],
      "execution_count": 0,
      "outputs": [
        {
          "output_type": "execute_result",
          "data": {
            "text/plain": [
              "{'loss': [0.9852592224166506,\n",
              "  0.9421830245426723,\n",
              "  0.901137798173087,\n",
              "  0.8623985540299188,\n",
              "  0.8251718680063883,\n",
              "  0.7913306730134146,\n",
              "  0.7624959639140538,\n",
              "  0.7370989549727667,\n",
              "  0.7151448669887724,\n",
              "  0.6950058738390604,\n",
              "  0.6777014482588996,\n",
              "  0.6621674214090619,\n",
              "  0.6468305020105272,\n",
              "  0.6329137461526053,\n",
              "  0.6195921943301246,\n",
              "  0.6073543321518671,\n",
              "  0.5961599645160494,\n",
              "  0.5853970811480568,\n",
              "  0.5749682676224481,\n",
              "  0.5653823438144866,\n",
              "  0.5565417085375105,\n",
              "  0.548162921837398,\n",
              "  0.5404007434844971,\n",
              "  0.5329280146530696,\n",
              "  0.5261999192691985,\n",
              "  0.519747367359343,\n",
              "  0.5139678841545469,\n",
              "  0.5080694906768345,\n",
              "  0.5023705278124128,\n",
              "  0.4976264760607765,\n",
              "  0.4928919792175293,\n",
              "  0.48864309390385946,\n",
              "  0.484020695799873,\n",
              "  0.4798999990735735,\n",
              "  0.476540694350288,\n",
              "  0.472466835805348,\n",
              "  0.4691960993267241,\n",
              "  0.466028938974653,\n",
              "  0.46289722351800827,\n",
              "  0.46043479215531125,\n",
              "  0.4575872756185986,\n",
              "  0.4550531954992385,\n",
              "  0.45267840453556607,\n",
              "  0.4503981229804811,\n",
              "  0.4480660319328308,\n",
              "  0.4457143709773109,\n",
              "  0.44272083327883766,\n",
              "  0.43867526394980294,\n",
              "  0.4343798898515247,\n",
              "  0.4298251427355267,\n",
              "  0.425479823634738,\n",
              "  0.41959192071642193,\n",
              "  0.4126763919989268,\n",
              "  0.40531368681362695,\n",
              "  0.3976056845415206,\n",
              "  0.3902957070441473,\n",
              "  0.38163478260948547,\n",
              "  0.37413880966958546,\n",
              "  0.36540253446215676,\n",
              "  0.35921876033147176,\n",
              "  0.3518277531578427,\n",
              "  0.3437906480970837,\n",
              "  0.33607115887460254,\n",
              "  0.3291828345684778,\n",
              "  0.32205283868880497,\n",
              "  0.31572704371951876,\n",
              "  0.3095480169568743,\n",
              "  0.303657823517209,\n",
              "  0.29875701382046654,\n",
              "  0.29231888368016196,\n",
              "  0.2869035507951464,\n",
              "  0.2812665435529891,\n",
              "  0.27647330931254793,\n",
              "  0.2705126546678089,\n",
              "  0.2650106694017138,\n",
              "  0.26095258210386546,\n",
              "  0.2554386104856219,\n",
              "  0.2500352992897942,\n",
              "  0.245072848881994,\n",
              "  0.23994472878319875,\n",
              "  0.23499709495476315,\n",
              "  0.23156302259081885,\n",
              "  0.2261244072800591,\n",
              "  0.22158727433000291,\n",
              "  0.21743088847114928,\n",
              "  0.21774766828332628,\n",
              "  0.21141463745208014,\n",
              "  0.20784631428264436,\n",
              "  0.20476466530845278,\n",
              "  0.20123276909192403,\n",
              "  0.1959573855002721,\n",
              "  0.19095282881032852,\n",
              "  0.19030450866335913,\n",
              "  0.1864180312979789,\n",
              "  0.1826294379574912,\n",
              "  0.18408549144154504,\n",
              "  0.180984670207614,\n",
              "  0.1744259544071697,\n",
              "  0.17272482166687647,\n",
              "  0.17456090152263642],\n",
              " 'accuracy': [0.6952381,\n",
              "  0.7047619,\n",
              "  0.7047619,\n",
              "  0.7047619,\n",
              "  0.7047619,\n",
              "  0.7047619,\n",
              "  0.7047619,\n",
              "  0.7047619,\n",
              "  0.7047619,\n",
              "  0.7047619,\n",
              "  0.7047619,\n",
              "  0.7047619,\n",
              "  0.7047619,\n",
              "  0.7047619,\n",
              "  0.7047619,\n",
              "  0.7047619,\n",
              "  0.7047619,\n",
              "  0.7047619,\n",
              "  0.7047619,\n",
              "  0.7047619,\n",
              "  0.7047619,\n",
              "  0.7047619,\n",
              "  0.7047619,\n",
              "  0.7047619,\n",
              "  0.7047619,\n",
              "  0.7047619,\n",
              "  0.7047619,\n",
              "  0.7047619,\n",
              "  0.7047619,\n",
              "  0.7047619,\n",
              "  0.7047619,\n",
              "  0.7047619,\n",
              "  0.7047619,\n",
              "  0.7047619,\n",
              "  0.7047619,\n",
              "  0.7047619,\n",
              "  0.7047619,\n",
              "  0.7047619,\n",
              "  0.7047619,\n",
              "  0.7047619,\n",
              "  0.7047619,\n",
              "  0.7047619,\n",
              "  0.71428573,\n",
              "  0.71428573,\n",
              "  0.71428573,\n",
              "  0.71428573,\n",
              "  0.71428573,\n",
              "  0.71428573,\n",
              "  0.7047619,\n",
              "  0.71428573,\n",
              "  0.73333335,\n",
              "  0.7714286,\n",
              "  0.7904762,\n",
              "  0.81904763,\n",
              "  0.84761906,\n",
              "  0.82857144,\n",
              "  0.8666667,\n",
              "  0.8857143,\n",
              "  0.8857143,\n",
              "  0.8857143,\n",
              "  0.8857143,\n",
              "  0.9047619,\n",
              "  0.9142857,\n",
              "  0.9142857,\n",
              "  0.9238095,\n",
              "  0.93333334,\n",
              "  0.95238096,\n",
              "  0.96190476,\n",
              "  0.96190476,\n",
              "  0.9714286,\n",
              "  0.96190476,\n",
              "  0.96190476,\n",
              "  0.95238096,\n",
              "  0.96190476,\n",
              "  0.9714286,\n",
              "  0.9714286,\n",
              "  0.9714286,\n",
              "  0.9714286,\n",
              "  0.9714286,\n",
              "  0.9714286,\n",
              "  0.9714286,\n",
              "  0.9714286,\n",
              "  0.9714286,\n",
              "  0.9714286,\n",
              "  0.9714286,\n",
              "  0.9714286,\n",
              "  0.9714286,\n",
              "  0.9714286,\n",
              "  0.9714286,\n",
              "  0.9714286,\n",
              "  0.9809524,\n",
              "  0.9714286,\n",
              "  0.9714286,\n",
              "  0.9714286,\n",
              "  0.9714286,\n",
              "  0.9809524,\n",
              "  0.9809524,\n",
              "  0.9714286,\n",
              "  0.9714286,\n",
              "  0.9714286]}"
            ]
          },
          "metadata": {
            "tags": []
          },
          "execution_count": 70
        }
      ]
    },
    {
      "cell_type": "code",
      "metadata": {
        "id": "f_5D-SYPvzOC",
        "colab_type": "code",
        "colab": {},
        "outputId": "a5d02cef-d2d4-4039-82e5-3f093ccc6e85"
      },
      "source": [
        "pd.DataFrame(history.history).plot(figsize=(8,5))\n",
        "plt.grid(True)\n",
        "plt.show()\n",
        "# history_df.head()"
      ],
      "execution_count": 0,
      "outputs": [
        {
          "output_type": "display_data",
          "data": {
            "image/png": "[encoded data removed]",
            "text/plain": [
              "<Figure size 576x360 with 1 Axes>"
            ]
          },
          "metadata": {
            "tags": [],
            "needs_background": "light"
          }
        }
      ]
    },
    {
      "cell_type": "code",
      "metadata": {
        "id": "gOG6JcSbvzOG",
        "colab_type": "code",
        "colab": {},
        "outputId": "a3199316-d609-4c40-bf38-d0d7e0e5da7d"
      },
      "source": [
        "# evaluate\n",
        "model.evaluate(x_test, y_test)"
      ],
      "execution_count": 0,
      "outputs": [
        {
          "output_type": "stream",
          "text": [
            "\r45/1 [======================================================================================================================================================================================================================================================================================================================================================================================================================================================================================================================================================================================================================================================================================================================================================================================================================================================================================================================================================================================================================================================================================================================================================================================================================================================================================================================================================================================================] - 1s 25ms/sample - loss: 0.1790 - accuracy: 0.9556\n"
          ],
          "name": "stdout"
        },
        {
          "output_type": "execute_result",
          "data": {
            "text/plain": [
              "[0.18907273213068646, 0.95555556]"
            ]
          },
          "metadata": {
            "tags": []
          },
          "execution_count": 72
        }
      ]
    },
    {
      "cell_type": "code",
      "metadata": {
        "id": "_WydZYTNvzOM",
        "colab_type": "code",
        "colab": {},
        "outputId": "b8ebc41a-6e80-4df8-e6ba-88577823f5f9"
      },
      "source": [
        "x_new = x_test[:3]\n",
        "y_prob = model.predict(x_new)\n",
        "y_prob.round(2)"
      ],
      "execution_count": 0,
      "outputs": [
        {
          "output_type": "execute_result",
          "data": {
            "text/plain": [
              "array([[0.98, 0.02, 0.  ],\n",
              "       [0.03, 0.85, 0.12],\n",
              "       [0.  , 0.48, 0.52]], dtype=float32)"
            ]
          },
          "metadata": {
            "tags": []
          },
          "execution_count": 73
        }
      ]
    },
    {
      "cell_type": "code",
      "metadata": {
        "id": "WZe4_wNKvzOQ",
        "colab_type": "code",
        "colab": {}
      },
      "source": [
        "from tensorflow.keras.datasets import mnist\n",
        "from tensorflow.keras.layers import Flatten\n",
        "import matplotlib.pyplot as plt"
      ],
      "execution_count": 0,
      "outputs": []
    },
    {
      "cell_type": "markdown",
      "metadata": {
        "id": "0_HFClUhvzOU",
        "colab_type": "text"
      },
      "source": [
        "### MNIST classification\n",
        "\n",
        "The MNIST database of handwritten digits, available from this page, has a training set of 60,000 examples, and a test set of 10,000 examples. It is a subset of a larger set available from NIST. The digits have been size-normalized and centered in a fixed-size image."
      ]
    },
    {
      "cell_type": "code",
      "metadata": {
        "id": "GvJ8-mLGvzOV",
        "colab_type": "code",
        "colab": {}
      },
      "source": [
        "(x_train, y_train), (x_test, y_test) = mnist.load_data()"
      ],
      "execution_count": 0,
      "outputs": []
    },
    {
      "cell_type": "code",
      "metadata": {
        "id": "mv0LBlOCvzOY",
        "colab_type": "code",
        "colab": {},
        "outputId": "28a8bf27-e87e-4aa1-f266-4be9666fa211"
      },
      "source": [
        "x_train.shape"
      ],
      "execution_count": 0,
      "outputs": [
        {
          "output_type": "execute_result",
          "data": {
            "text/plain": [
              "(60000, 28, 28)"
            ]
          },
          "metadata": {
            "tags": []
          },
          "execution_count": 76
        }
      ]
    },
    {
      "cell_type": "code",
      "metadata": {
        "id": "Bf-SivCEvzOn",
        "colab_type": "code",
        "colab": {},
        "outputId": "9bf8fd80-f9f9-4ce9-ff97-86b719cb23f4"
      },
      "source": [
        "plt.figure()\n",
        "plt.imshow(x_train[0])\n",
        "plt.colorbar()\n",
        "plt.grid(False)\n",
        "plt.show()"
      ],
      "execution_count": 0,
      "outputs": [
        {
          "output_type": "display_data",
          "data": {
            "image/png": "[encoded data removed]",
            "text/plain": [
              "<Figure size 432x288 with 2 Axes>"
            ]
          },
          "metadata": {
            "tags": [],
            "needs_background": "light"
          }
        }
      ]
    },
    {
      "cell_type": "code",
      "metadata": {
        "id": "TtQTZEk2vzOt",
        "colab_type": "code",
        "colab": {}
      },
      "source": [
        "y_train, y_test = to_categorical(y_train), to_categorical(y_test)"
      ],
      "execution_count": 0,
      "outputs": []
    },
    {
      "cell_type": "code",
      "metadata": {
        "id": "VtAol9fovzOw",
        "colab_type": "code",
        "colab": {}
      },
      "source": [
        "model = Sequential()\n",
        "model.add(Flatten(input_shape=(28, 28)))\n",
        "model.add(Dense(784, activation='relu'))\n",
        "model.add(Dense(100, activation='relu'))\n",
        "model.add(Dense(10, activation='softmax'))\n",
        "model.compile(loss='categorical_crossentropy', optimizer='adam', metrics=['accuracy'])"
      ],
      "execution_count": 0,
      "outputs": []
    },
    {
      "cell_type": "code",
      "metadata": {
        "id": "h8W46dVnvzO0",
        "colab_type": "code",
        "colab": {},
        "outputId": "162d5f19-8f31-4672-c83e-31a316a212cb"
      },
      "source": [
        "model.fit(x_train, y_train, epochs=5)"
      ],
      "execution_count": 0,
      "outputs": [
        {
          "output_type": "stream",
          "text": [
            "Train on 60000 samples\n",
            "Epoch 1/5\n",
            "60000/60000 [==============================] - 80s 1ms/sample - loss: 1.1946 - accuracy: 0.8156\n",
            "Epoch 2/5\n",
            "60000/60000 [==============================] - 78s 1ms/sample - loss: 0.3399 - accuracy: 0.9140\n",
            "Epoch 3/5\n",
            "60000/60000 [==============================] - 82s 1ms/sample - loss: 0.2031 - accuracy: 0.9476\n",
            "Epoch 4/5\n",
            "60000/60000 [==============================] - 76s 1ms/sample - loss: 0.1592 - accuracy: 0.9585\n",
            "Epoch 5/5\n",
            "60000/60000 [==============================] - 73s 1ms/sample - loss: 0.1388 - accuracy: 0.9649\n"
          ],
          "name": "stdout"
        },
        {
          "output_type": "execute_result",
          "data": {
            "text/plain": [
              "<tensorflow.python.keras.callbacks.History at 0x1a3fa9e290>"
            ]
          },
          "metadata": {
            "tags": []
          },
          "execution_count": 80
        }
      ]
    },
    {
      "cell_type": "code",
      "metadata": {
        "id": "dU2jWJXEvzO4",
        "colab_type": "code",
        "colab": {}
      },
      "source": [
        "x_train = x_train / 255.0\n",
        "x_test = x_test / 255.0"
      ],
      "execution_count": 0,
      "outputs": []
    },
    {
      "cell_type": "code",
      "metadata": {
        "id": "mOdYE0yHvzO7",
        "colab_type": "code",
        "colab": {}
      },
      "source": [
        "model = Sequential()\n",
        "model.add(Flatten(input_shape=(28, 28)))\n",
        "model.add(Dense(784, activation='relu'))\n",
        "model.add(Dense(100, activation='relu'))\n",
        "model.add(Dense(10, activation='softmax'))\n",
        "model.compile(loss='categorical_crossentropy', optimizer='adam', metrics=['accuracy'])"
      ],
      "execution_count": 0,
      "outputs": []
    },
    {
      "cell_type": "code",
      "metadata": {
        "id": "b2VzrMWSvzO-",
        "colab_type": "code",
        "colab": {},
        "outputId": "9c7c19b3-4b79-4fac-bd8a-9e0633c8ca23"
      },
      "source": [
        "model.fit(x_train, y_train, epochs=5)"
      ],
      "execution_count": 0,
      "outputs": [
        {
          "output_type": "stream",
          "text": [
            "Train on 60000 samples\n",
            "Epoch 1/5\n",
            "60000/60000 [==============================] - 90s 1ms/sample - loss: 0.1873 - accuracy: 0.9438\n",
            "Epoch 2/5\n",
            "60000/60000 [==============================] - 78s 1ms/sample - loss: 0.0788 - accuracy: 0.9761\n",
            "Epoch 3/5\n",
            "60000/60000 [==============================] - 89s 1ms/sample - loss: 0.0530 - accuracy: 0.9833\n",
            "Epoch 4/5\n",
            "60000/60000 [==============================] - 90s 1ms/sample - loss: 0.0416 - accuracy: 0.9865\n",
            "Epoch 5/5\n",
            "60000/60000 [==============================] - 88s 1ms/sample - loss: 0.0307 - accuracy: 0.9899\n"
          ],
          "name": "stdout"
        },
        {
          "output_type": "execute_result",
          "data": {
            "text/plain": [
              "<tensorflow.python.keras.callbacks.History at 0x1a61b93290>"
            ]
          },
          "metadata": {
            "tags": []
          },
          "execution_count": 83
        }
      ]
    },
    {
      "cell_type": "code",
      "metadata": {
        "id": "vp1tqRnGvzPC",
        "colab_type": "code",
        "colab": {}
      },
      "source": [
        "from tensorflow.keras.datasets import cifar10"
      ],
      "execution_count": 0,
      "outputs": []
    },
    {
      "cell_type": "code",
      "metadata": {
        "id": "Ul-aXRaavzPH",
        "colab_type": "code",
        "colab": {}
      },
      "source": [
        "(x_train, y_train), (x_test, y_test) = cifar10.load_data()"
      ],
      "execution_count": 0,
      "outputs": []
    },
    {
      "cell_type": "markdown",
      "metadata": {
        "id": "oXvufR_xvzPL",
        "colab_type": "text"
      },
      "source": [
        "### CIFAR-10 Dataset:\n",
        "\n",
        "The CIFAR-10 and CIFAR-100 are labeled subsets of the 80 million tiny images dataset. They were collected by Alex Krizhevsky, Vinod Nair, and Geoffrey Hinton.\n",
        "\n",
        "The CIFAR-10 dataset consists of 60000 32x32 colour images in 10 classes, with 6000 images per class. There are 50000 training images and 10000 test images.\n",
        "\n",
        "#### classes:\n",
        "\n",
        "1. airplane\n",
        "2. automobile\n",
        "3. bird\n",
        "4. cat\n",
        "5. deer\n",
        "6. dog\n",
        "7. frog\n",
        "8. horse\n",
        "9. ship\n",
        "10. truck"
      ]
    },
    {
      "cell_type": "code",
      "metadata": {
        "id": "JRWbWlm_vzPM",
        "colab_type": "code",
        "colab": {},
        "outputId": "e0d2f80d-9043-4910-ba85-07a640cc1419"
      },
      "source": [
        "x_train.shape"
      ],
      "execution_count": 0,
      "outputs": [
        {
          "output_type": "execute_result",
          "data": {
            "text/plain": [
              "(50000, 32, 32, 3)"
            ]
          },
          "metadata": {
            "tags": []
          },
          "execution_count": 86
        }
      ]
    },
    {
      "cell_type": "code",
      "metadata": {
        "id": "6be9LdB7vzPQ",
        "colab_type": "code",
        "colab": {},
        "outputId": "81d5b078-85e3-4d48-8a1c-a4db203bcf5e"
      },
      "source": [
        "plt.figure()\n",
        "plt.imshow(x_train[0])\n",
        "plt.colorbar()\n",
        "plt.grid(False)\n",
        "plt.show()"
      ],
      "execution_count": 0,
      "outputs": [
        {
          "output_type": "display_data",
          "data": {
            "image/png": "[encoded data removed]",
            "text/plain": [
              "<Figure size 432x288 with 2 Axes>"
            ]
          },
          "metadata": {
            "tags": [],
            "needs_background": "light"
          }
        }
      ]
    },
    {
      "cell_type": "code",
      "metadata": {
        "id": "cVT-goWSvzPT",
        "colab_type": "code",
        "colab": {}
      },
      "source": [
        "y_train, y_test = to_categorical(y_train), to_categorical(y_test)"
      ],
      "execution_count": 0,
      "outputs": []
    },
    {
      "cell_type": "code",
      "metadata": {
        "id": "Q3ExGu8avzPY",
        "colab_type": "code",
        "colab": {}
      },
      "source": [
        "model = Sequential()\n",
        "model.add(Flatten(input_shape=(32, 32, 3)))\n",
        "model.add(Dense(784, activation='relu'))\n",
        "model.add(Dense(100, activation='relu'))\n",
        "model.add(Dense(10, activation='softmax'))\n",
        "model.compile(loss='categorical_crossentropy', optimizer='adam', metrics=['accuracy'])"
      ],
      "execution_count": 0,
      "outputs": []
    },
    {
      "cell_type": "code",
      "metadata": {
        "id": "8ZKPpvaRvzPl",
        "colab_type": "code",
        "colab": {},
        "outputId": "e1098b94-46b2-488a-d5d3-0e1bbeb422ed"
      },
      "source": [
        "model.fit(x_train, y_train, epochs=5)"
      ],
      "execution_count": 0,
      "outputs": [
        {
          "output_type": "stream",
          "text": [
            "Train on 50000 samples\n",
            "Epoch 1/5\n",
            "50000/50000 [==============================] - 196s 4ms/sample - loss: 17.5809 - accuracy: 0.1112\n",
            "Epoch 2/5\n",
            "50000/50000 [==============================] - 143s 3ms/sample - loss: 2.3027 - accuracy: 0.0973\n",
            "Epoch 3/5\n",
            "50000/50000 [==============================] - 156s 3ms/sample - loss: 2.3027 - accuracy: 0.0996\n",
            "Epoch 4/5\n",
            "50000/50000 [==============================] - 164s 3ms/sample - loss: 2.3027 - accuracy: 0.0994\n",
            "Epoch 5/5\n",
            "50000/50000 [==============================] - 146s 3ms/sample - loss: 2.3027 - accuracy: 0.0983\n"
          ],
          "name": "stdout"
        },
        {
          "output_type": "execute_result",
          "data": {
            "text/plain": [
              "<tensorflow.python.keras.callbacks.History at 0x1a6d49d090>"
            ]
          },
          "metadata": {
            "tags": []
          },
          "execution_count": 90
        }
      ]
    },
    {
      "cell_type": "code",
      "metadata": {
        "id": "C_FylDi5vzPp",
        "colab_type": "code",
        "colab": {}
      },
      "source": [
        "x_train = x_train / 255.0\n",
        "x_test = x_test / 255.0"
      ],
      "execution_count": 0,
      "outputs": []
    },
    {
      "cell_type": "code",
      "metadata": {
        "id": "w5L0pIw8vzPt",
        "colab_type": "code",
        "colab": {}
      },
      "source": [
        "model = Sequential()\n",
        "model.add(Flatten(input_shape=(32, 32, 3)))\n",
        "model.add(Dense(784, activation='relu'))\n",
        "model.add(Dense(100, activation='relu'))\n",
        "model.add(Dense(10, activation='softmax'))\n",
        "model.compile(loss='categorical_crossentropy', optimizer='adam', metrics=['accuracy'])"
      ],
      "execution_count": 0,
      "outputs": []
    },
    {
      "cell_type": "code",
      "metadata": {
        "id": "55dR8Xh0vzPw",
        "colab_type": "code",
        "colab": {},
        "outputId": "a85f3187-06b0-4981-91a4-19db2ecb6bf8"
      },
      "source": [
        "model.fit(x_train, y_train, epochs=5)"
      ],
      "execution_count": 0,
      "outputs": [
        {
          "output_type": "stream",
          "text": [
            "Train on 50000 samples\n",
            "Epoch 1/5\n",
            "50000/50000 [==============================] - 77s 2ms/sample - loss: 1.9109 - accuracy: 0.3091\n",
            "Epoch 2/5\n",
            "50000/50000 [==============================] - 93s 2ms/sample - loss: 1.7105 - accuracy: 0.3865\n",
            "Epoch 3/5\n",
            "50000/50000 [==============================] - 186s 4ms/sample - loss: 1.6194 - accuracy: 0.4210\n",
            "Epoch 4/5\n",
            "50000/50000 [==============================] - 146s 3ms/sample - loss: 1.5660 - accuracy: 0.4412\n",
            "Epoch 5/5\n",
            "50000/50000 [==============================] - 91s 2ms/sample - loss: 1.5235 - accuracy: 0.4576\n"
          ],
          "name": "stdout"
        },
        {
          "output_type": "execute_result",
          "data": {
            "text/plain": [
              "<tensorflow.python.keras.callbacks.History at 0x1a6215f3d0>"
            ]
          },
          "metadata": {
            "tags": []
          },
          "execution_count": 93
        }
      ]
    },
    {
      "cell_type": "code",
      "metadata": {
        "id": "D3VHZD0kvzPz",
        "colab_type": "code",
        "colab": {}
      },
      "source": [
        "model = Sequential()\n",
        "model.add(Flatten(input_shape=(32, 32, 3)))\n",
        "model.add(Dense(784, activation='relu'))\n",
        "model.add(Dense(500, activation='relu'))\n",
        "model.add(Dense(500, activation='relu'))\n",
        "model.add(Dense(250, activation='relu'))\n",
        "model.add(Dense(100, activation='relu'))\n",
        "model.add(Dense(10, activation='softmax'))\n",
        "model.compile(loss='categorical_crossentropy', optimizer='adam', metrics=['accuracy'])"
      ],
      "execution_count": 0,
      "outputs": []
    },
    {
      "cell_type": "code",
      "metadata": {
        "id": "guUEApcovzP3",
        "colab_type": "code",
        "colab": {},
        "outputId": "c8b7abd1-b238-4972-fcb0-9c690f7f431f"
      },
      "source": [
        "model.fit(x_train, y_train, epochs=5)"
      ],
      "execution_count": 0,
      "outputs": [
        {
          "output_type": "stream",
          "text": [
            "Train on 50000 samples\n",
            "Epoch 1/5\n",
            "50000/50000 [==============================] - 139s 3ms/sample - loss: 1.9110 - accuracy: 0.2994\n",
            "Epoch 2/5\n",
            "50000/50000 [==============================] - 124s 2ms/sample - loss: 1.7355 - accuracy: 0.3717\n",
            "Epoch 3/5\n",
            "50000/50000 [==============================] - 108s 2ms/sample - loss: 1.6550 - accuracy: 0.4045\n",
            "Epoch 4/5\n",
            "50000/50000 [==============================] - 102s 2ms/sample - loss: 1.5949 - accuracy: 0.4256\n",
            "Epoch 5/5\n",
            "50000/50000 [==============================] - 101s 2ms/sample - loss: 1.5464 - accuracy: 0.4459\n"
          ],
          "name": "stdout"
        },
        {
          "output_type": "execute_result",
          "data": {
            "text/plain": [
              "<tensorflow.python.keras.callbacks.History at 0x10b5f8090>"
            ]
          },
          "metadata": {
            "tags": []
          },
          "execution_count": 95
        }
      ]
    },
    {
      "cell_type": "code",
      "metadata": {
        "id": "PtqyklJBvzP9",
        "colab_type": "code",
        "colab": {}
      },
      "source": [
        ""
      ],
      "execution_count": 0,
      "outputs": []
    }
  ]
}